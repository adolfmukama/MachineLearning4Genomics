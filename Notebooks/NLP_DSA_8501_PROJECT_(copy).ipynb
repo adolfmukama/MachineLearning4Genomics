{
 "cells": [
  {
   "cell_type": "code",
   "execution_count": 4,
   "id": "3dbb75b0",
   "metadata": {
    "id": "3dbb75b0"
   },
   "outputs": [],
   "source": [
    "#loading libraries for scraping twitter data\n",
    "import pandas as pd\n",
    "# import snscrape.modules.twitter as sntwitter\n",
    "import itertools\n",
    "import re\n",
    "import warnings\n",
    "warnings.filterwarnings(\"ignore\")"
   ]
  },
  {
   "cell_type": "code",
   "execution_count": 5,
   "id": "5a5ff135",
   "metadata": {
    "id": "5a5ff135"
   },
   "outputs": [],
   "source": [
    "df=pd.read_csv('tweets.csv',index_col=0)"
   ]
  },
  {
   "cell_type": "code",
   "execution_count": 6,
   "id": "561ca788",
   "metadata": {},
   "outputs": [],
   "source": [
    "#reset author to a column\n",
    "df = df.reset_index()"
   ]
  },
  {
   "cell_type": "code",
   "execution_count": 9,
   "id": "0ebbd0fd",
   "metadata": {
    "id": "0ebbd0fd",
    "outputId": "37ed183b-cb7c-4d49-c1fc-72726532e0a7"
   },
   "outputs": [
    {
     "data": {
      "text/html": [
       "<div>\n",
       "<style scoped>\n",
       "    .dataframe tbody tr th:only-of-type {\n",
       "        vertical-align: middle;\n",
       "    }\n",
       "\n",
       "    .dataframe tbody tr th {\n",
       "        vertical-align: top;\n",
       "    }\n",
       "\n",
       "    .dataframe thead th {\n",
       "        text-align: right;\n",
       "    }\n",
       "</style>\n",
       "<table border=\"1\" class=\"dataframe\">\n",
       "  <thead>\n",
       "    <tr style=\"text-align: right;\">\n",
       "      <th></th>\n",
       "      <th>author</th>\n",
       "      <th>content</th>\n",
       "      <th>country</th>\n",
       "      <th>date_time</th>\n",
       "      <th>id</th>\n",
       "      <th>language</th>\n",
       "      <th>latitude</th>\n",
       "      <th>longitude</th>\n",
       "      <th>number_of_likes</th>\n",
       "      <th>number_of_shares</th>\n",
       "    </tr>\n",
       "  </thead>\n",
       "  <tbody>\n",
       "    <tr>\n",
       "      <th>0</th>\n",
       "      <td>katyperry</td>\n",
       "      <td>Is history repeating itself...?#DONTNORMALIZEH...</td>\n",
       "      <td>NaN</td>\n",
       "      <td>12/01/2017 19:52</td>\n",
       "      <td>8.196330e+17</td>\n",
       "      <td>en</td>\n",
       "      <td>NaN</td>\n",
       "      <td>NaN</td>\n",
       "      <td>7900</td>\n",
       "      <td>3472</td>\n",
       "    </tr>\n",
       "    <tr>\n",
       "      <th>1</th>\n",
       "      <td>katyperry</td>\n",
       "      <td>@barackobama Thank you for your incredible gra...</td>\n",
       "      <td>NaN</td>\n",
       "      <td>11/01/2017 08:38</td>\n",
       "      <td>8.191010e+17</td>\n",
       "      <td>en</td>\n",
       "      <td>NaN</td>\n",
       "      <td>NaN</td>\n",
       "      <td>3689</td>\n",
       "      <td>1380</td>\n",
       "    </tr>\n",
       "    <tr>\n",
       "      <th>2</th>\n",
       "      <td>katyperry</td>\n",
       "      <td>Life goals. https://t.co/XIn1qKMKQl</td>\n",
       "      <td>NaN</td>\n",
       "      <td>11/01/2017 02:52</td>\n",
       "      <td>8.190140e+17</td>\n",
       "      <td>en</td>\n",
       "      <td>NaN</td>\n",
       "      <td>NaN</td>\n",
       "      <td>10341</td>\n",
       "      <td>2387</td>\n",
       "    </tr>\n",
       "    <tr>\n",
       "      <th>3</th>\n",
       "      <td>katyperry</td>\n",
       "      <td>Me right now 🙏🏻 https://t.co/gW55C1wrwd</td>\n",
       "      <td>NaN</td>\n",
       "      <td>11/01/2017 02:44</td>\n",
       "      <td>8.190120e+17</td>\n",
       "      <td>en</td>\n",
       "      <td>NaN</td>\n",
       "      <td>NaN</td>\n",
       "      <td>10774</td>\n",
       "      <td>2458</td>\n",
       "    </tr>\n",
       "    <tr>\n",
       "      <th>4</th>\n",
       "      <td>katyperry</td>\n",
       "      <td>SISTERS ARE DOIN' IT FOR THEMSELVES! 🙌🏻💪🏻❤️ ht...</td>\n",
       "      <td>NaN</td>\n",
       "      <td>10/01/2017 05:22</td>\n",
       "      <td>8.186890e+17</td>\n",
       "      <td>en</td>\n",
       "      <td>NaN</td>\n",
       "      <td>NaN</td>\n",
       "      <td>17620</td>\n",
       "      <td>4655</td>\n",
       "    </tr>\n",
       "  </tbody>\n",
       "</table>\n",
       "</div>"
      ],
      "text/plain": [
       "      author                                            content country  \\\n",
       "0  katyperry  Is history repeating itself...?#DONTNORMALIZEH...     NaN   \n",
       "1  katyperry  @barackobama Thank you for your incredible gra...     NaN   \n",
       "2  katyperry                Life goals. https://t.co/XIn1qKMKQl     NaN   \n",
       "3  katyperry            Me right now 🙏🏻 https://t.co/gW55C1wrwd     NaN   \n",
       "4  katyperry  SISTERS ARE DOIN' IT FOR THEMSELVES! 🙌🏻💪🏻❤️ ht...     NaN   \n",
       "\n",
       "          date_time            id language  latitude  longitude  \\\n",
       "0  12/01/2017 19:52  8.196330e+17       en       NaN        NaN   \n",
       "1  11/01/2017 08:38  8.191010e+17       en       NaN        NaN   \n",
       "2  11/01/2017 02:52  8.190140e+17       en       NaN        NaN   \n",
       "3  11/01/2017 02:44  8.190120e+17       en       NaN        NaN   \n",
       "4  10/01/2017 05:22  8.186890e+17       en       NaN        NaN   \n",
       "\n",
       "   number_of_likes  number_of_shares  \n",
       "0             7900              3472  \n",
       "1             3689              1380  \n",
       "2            10341              2387  \n",
       "3            10774              2458  \n",
       "4            17620              4655  "
      ]
     },
     "execution_count": 9,
     "metadata": {},
     "output_type": "execute_result"
    }
   ],
   "source": [
    "df.head()"
   ]
  },
  {
   "cell_type": "code",
   "execution_count": 10,
   "id": "369e64ca",
   "metadata": {
    "id": "369e64ca",
    "outputId": "e48d3d54-d2b3-4753-9050-a6593daa5fc4"
   },
   "outputs": [
    {
     "data": {
      "text/plain": [
       "(52542, 10)"
      ]
     },
     "execution_count": 10,
     "metadata": {},
     "output_type": "execute_result"
    }
   ],
   "source": [
    "df.shape"
   ]
  },
  {
   "cell_type": "code",
   "execution_count": 11,
   "id": "81e56572",
   "metadata": {
    "id": "81e56572",
    "outputId": "48ce27f4-0a7f-4b52-dfe9-8b88fd98999a"
   },
   "outputs": [
    {
     "data": {
      "text/html": [
       "<div>\n",
       "<style scoped>\n",
       "    .dataframe tbody tr th:only-of-type {\n",
       "        vertical-align: middle;\n",
       "    }\n",
       "\n",
       "    .dataframe tbody tr th {\n",
       "        vertical-align: top;\n",
       "    }\n",
       "\n",
       "    .dataframe thead th {\n",
       "        text-align: right;\n",
       "    }\n",
       "</style>\n",
       "<table border=\"1\" class=\"dataframe\">\n",
       "  <thead>\n",
       "    <tr style=\"text-align: right;\">\n",
       "      <th></th>\n",
       "      <th>author</th>\n",
       "      <th>content</th>\n",
       "      <th>country</th>\n",
       "      <th>date_time</th>\n",
       "      <th>id</th>\n",
       "      <th>language</th>\n",
       "      <th>latitude</th>\n",
       "      <th>longitude</th>\n",
       "      <th>number_of_likes</th>\n",
       "      <th>number_of_shares</th>\n",
       "    </tr>\n",
       "  </thead>\n",
       "  <tbody>\n",
       "    <tr>\n",
       "      <th>52537</th>\n",
       "      <td>ddlovato</td>\n",
       "      <td>Life couldn't be better right now. 😊</td>\n",
       "      <td>NaN</td>\n",
       "      <td>06/01/2015 23:10</td>\n",
       "      <td>5.526030e+17</td>\n",
       "      <td>en</td>\n",
       "      <td>NaN</td>\n",
       "      <td>NaN</td>\n",
       "      <td>32799</td>\n",
       "      <td>23796</td>\n",
       "    </tr>\n",
       "    <tr>\n",
       "      <th>52538</th>\n",
       "      <td>ddlovato</td>\n",
       "      <td>First Monday back in action. I'd say 21.6 mile...</td>\n",
       "      <td>NaN</td>\n",
       "      <td>06/01/2015 02:17</td>\n",
       "      <td>5.522880e+17</td>\n",
       "      <td>en</td>\n",
       "      <td>NaN</td>\n",
       "      <td>NaN</td>\n",
       "      <td>21709</td>\n",
       "      <td>12511</td>\n",
       "    </tr>\n",
       "    <tr>\n",
       "      <th>52539</th>\n",
       "      <td>ddlovato</td>\n",
       "      <td>Crime shows, buddy, snuggles = the perfect Sun...</td>\n",
       "      <td>NaN</td>\n",
       "      <td>05/01/2015 03:42</td>\n",
       "      <td>5.519470e+17</td>\n",
       "      <td>en</td>\n",
       "      <td>NaN</td>\n",
       "      <td>NaN</td>\n",
       "      <td>25269</td>\n",
       "      <td>15583</td>\n",
       "    </tr>\n",
       "    <tr>\n",
       "      <th>52540</th>\n",
       "      <td>ddlovato</td>\n",
       "      <td>❄️ http://t.co/sHCFdPpGPa</td>\n",
       "      <td>NaN</td>\n",
       "      <td>05/01/2015 00:06</td>\n",
       "      <td>5.518920e+17</td>\n",
       "      <td>und</td>\n",
       "      <td>NaN</td>\n",
       "      <td>NaN</td>\n",
       "      <td>15985</td>\n",
       "      <td>10456</td>\n",
       "    </tr>\n",
       "    <tr>\n",
       "      <th>52541</th>\n",
       "      <td>ddlovato</td>\n",
       "      <td>❤️❄️✈️ http://t.co/ixmB5lv17Z</td>\n",
       "      <td>NaN</td>\n",
       "      <td>05/01/2015 00:02</td>\n",
       "      <td>5.518910e+17</td>\n",
       "      <td>und</td>\n",
       "      <td>NaN</td>\n",
       "      <td>NaN</td>\n",
       "      <td>16193</td>\n",
       "      <td>10822</td>\n",
       "    </tr>\n",
       "  </tbody>\n",
       "</table>\n",
       "</div>"
      ],
      "text/plain": [
       "         author                                            content country  \\\n",
       "52537  ddlovato               Life couldn't be better right now. 😊     NaN   \n",
       "52538  ddlovato  First Monday back in action. I'd say 21.6 mile...     NaN   \n",
       "52539  ddlovato  Crime shows, buddy, snuggles = the perfect Sun...     NaN   \n",
       "52540  ddlovato                          ❄️ http://t.co/sHCFdPpGPa     NaN   \n",
       "52541  ddlovato                      ❤️❄️✈️ http://t.co/ixmB5lv17Z     NaN   \n",
       "\n",
       "              date_time            id language  latitude  longitude  \\\n",
       "52537  06/01/2015 23:10  5.526030e+17       en       NaN        NaN   \n",
       "52538  06/01/2015 02:17  5.522880e+17       en       NaN        NaN   \n",
       "52539  05/01/2015 03:42  5.519470e+17       en       NaN        NaN   \n",
       "52540  05/01/2015 00:06  5.518920e+17      und       NaN        NaN   \n",
       "52541  05/01/2015 00:02  5.518910e+17      und       NaN        NaN   \n",
       "\n",
       "       number_of_likes  number_of_shares  \n",
       "52537            32799             23796  \n",
       "52538            21709             12511  \n",
       "52539            25269             15583  \n",
       "52540            15985             10456  \n",
       "52541            16193             10822  "
      ]
     },
     "execution_count": 11,
     "metadata": {},
     "output_type": "execute_result"
    }
   ],
   "source": [
    "#displaying the last 5 tweets from the data\n",
    "df.tail()"
   ]
  },
  {
   "cell_type": "code",
   "execution_count": 12,
   "id": "f19ac9fd",
   "metadata": {
    "id": "f19ac9fd",
    "outputId": "5907bd16-756d-414c-f32f-eed6801f1e5d"
   },
   "outputs": [
    {
     "data": {
      "text/plain": [
       "1    @barackobama Thank you for your incredible gra...\n",
       "2                  Life goals. https://t.co/XIn1qKMKQl\n",
       "3              Me right now 🙏🏻 https://t.co/gW55C1wrwd\n",
       "4    SISTERS ARE DOIN' IT FOR THEMSELVES! 🙌🏻💪🏻❤️ ht...\n",
       "Name: content, dtype: object"
      ]
     },
     "execution_count": 12,
     "metadata": {},
     "output_type": "execute_result"
    }
   ],
   "source": [
    "#inspecting a single row of the text column\n",
    "df['content'][1:5]"
   ]
  },
  {
   "cell_type": "code",
   "execution_count": 13,
   "id": "d9642ad5",
   "metadata": {
    "id": "d9642ad5"
   },
   "outputs": [],
   "source": [
    "#selecting columns of interest only\n",
    "text_data=df[['author','content','date_time','number_of_shares']]"
   ]
  },
  {
   "cell_type": "code",
   "execution_count": 14,
   "id": "21106dcb",
   "metadata": {
    "id": "21106dcb",
    "outputId": "69739b45-b773-45e3-b434-30de3cddac1e"
   },
   "outputs": [
    {
     "data": {
      "text/html": [
       "<div>\n",
       "<style scoped>\n",
       "    .dataframe tbody tr th:only-of-type {\n",
       "        vertical-align: middle;\n",
       "    }\n",
       "\n",
       "    .dataframe tbody tr th {\n",
       "        vertical-align: top;\n",
       "    }\n",
       "\n",
       "    .dataframe thead th {\n",
       "        text-align: right;\n",
       "    }\n",
       "</style>\n",
       "<table border=\"1\" class=\"dataframe\">\n",
       "  <thead>\n",
       "    <tr style=\"text-align: right;\">\n",
       "      <th></th>\n",
       "      <th>author</th>\n",
       "      <th>content</th>\n",
       "      <th>date_time</th>\n",
       "      <th>number_of_shares</th>\n",
       "    </tr>\n",
       "  </thead>\n",
       "  <tbody>\n",
       "    <tr>\n",
       "      <th>0</th>\n",
       "      <td>katyperry</td>\n",
       "      <td>Is history repeating itself...?#DONTNORMALIZEH...</td>\n",
       "      <td>12/01/2017 19:52</td>\n",
       "      <td>3472</td>\n",
       "    </tr>\n",
       "    <tr>\n",
       "      <th>1</th>\n",
       "      <td>katyperry</td>\n",
       "      <td>@barackobama Thank you for your incredible gra...</td>\n",
       "      <td>11/01/2017 08:38</td>\n",
       "      <td>1380</td>\n",
       "    </tr>\n",
       "    <tr>\n",
       "      <th>2</th>\n",
       "      <td>katyperry</td>\n",
       "      <td>Life goals. https://t.co/XIn1qKMKQl</td>\n",
       "      <td>11/01/2017 02:52</td>\n",
       "      <td>2387</td>\n",
       "    </tr>\n",
       "    <tr>\n",
       "      <th>3</th>\n",
       "      <td>katyperry</td>\n",
       "      <td>Me right now 🙏🏻 https://t.co/gW55C1wrwd</td>\n",
       "      <td>11/01/2017 02:44</td>\n",
       "      <td>2458</td>\n",
       "    </tr>\n",
       "    <tr>\n",
       "      <th>4</th>\n",
       "      <td>katyperry</td>\n",
       "      <td>SISTERS ARE DOIN' IT FOR THEMSELVES! 🙌🏻💪🏻❤️ ht...</td>\n",
       "      <td>10/01/2017 05:22</td>\n",
       "      <td>4655</td>\n",
       "    </tr>\n",
       "  </tbody>\n",
       "</table>\n",
       "</div>"
      ],
      "text/plain": [
       "      author                                            content  \\\n",
       "0  katyperry  Is history repeating itself...?#DONTNORMALIZEH...   \n",
       "1  katyperry  @barackobama Thank you for your incredible gra...   \n",
       "2  katyperry                Life goals. https://t.co/XIn1qKMKQl   \n",
       "3  katyperry            Me right now 🙏🏻 https://t.co/gW55C1wrwd   \n",
       "4  katyperry  SISTERS ARE DOIN' IT FOR THEMSELVES! 🙌🏻💪🏻❤️ ht...   \n",
       "\n",
       "          date_time  number_of_shares  \n",
       "0  12/01/2017 19:52              3472  \n",
       "1  11/01/2017 08:38              1380  \n",
       "2  11/01/2017 02:52              2387  \n",
       "3  11/01/2017 02:44              2458  \n",
       "4  10/01/2017 05:22              4655  "
      ]
     },
     "execution_count": 14,
     "metadata": {},
     "output_type": "execute_result"
    }
   ],
   "source": [
    "text_data.head()"
   ]
  },
  {
   "cell_type": "markdown",
   "id": "eadb2270",
   "metadata": {
    "id": "eadb2270"
   },
   "source": [
    "## Text Cleaning"
   ]
  },
  {
   "cell_type": "code",
   "execution_count": 15,
   "id": "93986a36",
   "metadata": {
    "id": "93986a36",
    "outputId": "8451c65f-85a7-44c0-c490-29dc089ebd65"
   },
   "outputs": [
    {
     "data": {
      "text/html": [
       "<div>\n",
       "<style scoped>\n",
       "    .dataframe tbody tr th:only-of-type {\n",
       "        vertical-align: middle;\n",
       "    }\n",
       "\n",
       "    .dataframe tbody tr th {\n",
       "        vertical-align: top;\n",
       "    }\n",
       "\n",
       "    .dataframe thead th {\n",
       "        text-align: right;\n",
       "    }\n",
       "</style>\n",
       "<table border=\"1\" class=\"dataframe\">\n",
       "  <thead>\n",
       "    <tr style=\"text-align: right;\">\n",
       "      <th></th>\n",
       "      <th>author</th>\n",
       "      <th>content</th>\n",
       "      <th>date_time</th>\n",
       "      <th>number_of_shares</th>\n",
       "    </tr>\n",
       "  </thead>\n",
       "  <tbody>\n",
       "    <tr>\n",
       "      <th>0</th>\n",
       "      <td>katyperry</td>\n",
       "      <td>Is history repeating itself...?#DONTNORMALIZEH...</td>\n",
       "      <td>12/01/2017 19:52</td>\n",
       "      <td>3472</td>\n",
       "    </tr>\n",
       "    <tr>\n",
       "      <th>1</th>\n",
       "      <td>katyperry</td>\n",
       "      <td>@barackobama Thank you for your incredible gra...</td>\n",
       "      <td>11/01/2017 08:38</td>\n",
       "      <td>1380</td>\n",
       "    </tr>\n",
       "    <tr>\n",
       "      <th>2</th>\n",
       "      <td>katyperry</td>\n",
       "      <td>Life goals. https://t.co/XIn1qKMKQl</td>\n",
       "      <td>11/01/2017 02:52</td>\n",
       "      <td>2387</td>\n",
       "    </tr>\n",
       "    <tr>\n",
       "      <th>3</th>\n",
       "      <td>katyperry</td>\n",
       "      <td>Me right now 🙏🏻 https://t.co/gW55C1wrwd</td>\n",
       "      <td>11/01/2017 02:44</td>\n",
       "      <td>2458</td>\n",
       "    </tr>\n",
       "    <tr>\n",
       "      <th>4</th>\n",
       "      <td>katyperry</td>\n",
       "      <td>SISTERS ARE DOIN' IT FOR THEMSELVES! 🙌🏻💪🏻❤️ ht...</td>\n",
       "      <td>10/01/2017 05:22</td>\n",
       "      <td>4655</td>\n",
       "    </tr>\n",
       "    <tr>\n",
       "      <th>...</th>\n",
       "      <td>...</td>\n",
       "      <td>...</td>\n",
       "      <td>...</td>\n",
       "      <td>...</td>\n",
       "    </tr>\n",
       "    <tr>\n",
       "      <th>52537</th>\n",
       "      <td>ddlovato</td>\n",
       "      <td>Life couldn't be better right now. 😊</td>\n",
       "      <td>06/01/2015 23:10</td>\n",
       "      <td>23796</td>\n",
       "    </tr>\n",
       "    <tr>\n",
       "      <th>52538</th>\n",
       "      <td>ddlovato</td>\n",
       "      <td>First Monday back in action. I'd say 21.6 mile...</td>\n",
       "      <td>06/01/2015 02:17</td>\n",
       "      <td>12511</td>\n",
       "    </tr>\n",
       "    <tr>\n",
       "      <th>52539</th>\n",
       "      <td>ddlovato</td>\n",
       "      <td>Crime shows, buddy, snuggles = the perfect Sun...</td>\n",
       "      <td>05/01/2015 03:42</td>\n",
       "      <td>15583</td>\n",
       "    </tr>\n",
       "    <tr>\n",
       "      <th>52540</th>\n",
       "      <td>ddlovato</td>\n",
       "      <td>❄️ http://t.co/sHCFdPpGPa</td>\n",
       "      <td>05/01/2015 00:06</td>\n",
       "      <td>10456</td>\n",
       "    </tr>\n",
       "    <tr>\n",
       "      <th>52541</th>\n",
       "      <td>ddlovato</td>\n",
       "      <td>❤️❄️✈️ http://t.co/ixmB5lv17Z</td>\n",
       "      <td>05/01/2015 00:02</td>\n",
       "      <td>10822</td>\n",
       "    </tr>\n",
       "  </tbody>\n",
       "</table>\n",
       "<p>52425 rows × 4 columns</p>\n",
       "</div>"
      ],
      "text/plain": [
       "          author                                            content  \\\n",
       "0      katyperry  Is history repeating itself...?#DONTNORMALIZEH...   \n",
       "1      katyperry  @barackobama Thank you for your incredible gra...   \n",
       "2      katyperry                Life goals. https://t.co/XIn1qKMKQl   \n",
       "3      katyperry            Me right now 🙏🏻 https://t.co/gW55C1wrwd   \n",
       "4      katyperry  SISTERS ARE DOIN' IT FOR THEMSELVES! 🙌🏻💪🏻❤️ ht...   \n",
       "...          ...                                                ...   \n",
       "52537   ddlovato               Life couldn't be better right now. 😊   \n",
       "52538   ddlovato  First Monday back in action. I'd say 21.6 mile...   \n",
       "52539   ddlovato  Crime shows, buddy, snuggles = the perfect Sun...   \n",
       "52540   ddlovato                          ❄️ http://t.co/sHCFdPpGPa   \n",
       "52541   ddlovato                      ❤️❄️✈️ http://t.co/ixmB5lv17Z   \n",
       "\n",
       "              date_time  number_of_shares  \n",
       "0      12/01/2017 19:52              3472  \n",
       "1      11/01/2017 08:38              1380  \n",
       "2      11/01/2017 02:52              2387  \n",
       "3      11/01/2017 02:44              2458  \n",
       "4      10/01/2017 05:22              4655  \n",
       "...                 ...               ...  \n",
       "52537  06/01/2015 23:10             23796  \n",
       "52538  06/01/2015 02:17             12511  \n",
       "52539  05/01/2015 03:42             15583  \n",
       "52540  05/01/2015 00:06             10456  \n",
       "52541  05/01/2015 00:02             10822  \n",
       "\n",
       "[52425 rows x 4 columns]"
      ]
     },
     "execution_count": 15,
     "metadata": {},
     "output_type": "execute_result"
    }
   ],
   "source": [
    "# removing duplicates from the text column\n",
    "text_data.drop_duplicates('content',keep='first')"
   ]
  },
  {
   "cell_type": "code",
   "execution_count": 16,
   "id": "42c289e0",
   "metadata": {},
   "outputs": [],
   "source": [
    "#remove username and links\n",
    "def clean_text(text):\n",
    "    url_pattern = re.compile(r'https?://\\S+|www\\.\\S+')\n",
    "    text = url_pattern.sub(r'', text)\n",
    "    return text.strip()\n"
   ]
  },
  {
   "cell_type": "code",
   "execution_count": 17,
   "id": "d3a9887d",
   "metadata": {},
   "outputs": [
    {
     "data": {
      "text/html": [
       "<div>\n",
       "<style scoped>\n",
       "    .dataframe tbody tr th:only-of-type {\n",
       "        vertical-align: middle;\n",
       "    }\n",
       "\n",
       "    .dataframe tbody tr th {\n",
       "        vertical-align: top;\n",
       "    }\n",
       "\n",
       "    .dataframe thead th {\n",
       "        text-align: right;\n",
       "    }\n",
       "</style>\n",
       "<table border=\"1\" class=\"dataframe\">\n",
       "  <thead>\n",
       "    <tr style=\"text-align: right;\">\n",
       "      <th></th>\n",
       "      <th>author</th>\n",
       "      <th>content</th>\n",
       "      <th>date_time</th>\n",
       "      <th>number_of_shares</th>\n",
       "      <th>Processed_Tweets</th>\n",
       "    </tr>\n",
       "  </thead>\n",
       "  <tbody>\n",
       "    <tr>\n",
       "      <th>0</th>\n",
       "      <td>katyperry</td>\n",
       "      <td>Is history repeating itself...?#DONTNORMALIZEH...</td>\n",
       "      <td>12/01/2017 19:52</td>\n",
       "      <td>3472</td>\n",
       "      <td>Is history repeating itself...?#DONTNORMALIZEHATE</td>\n",
       "    </tr>\n",
       "    <tr>\n",
       "      <th>1</th>\n",
       "      <td>katyperry</td>\n",
       "      <td>@barackobama Thank you for your incredible gra...</td>\n",
       "      <td>11/01/2017 08:38</td>\n",
       "      <td>1380</td>\n",
       "      <td>@barackobama Thank you for your incredible gra...</td>\n",
       "    </tr>\n",
       "    <tr>\n",
       "      <th>2</th>\n",
       "      <td>katyperry</td>\n",
       "      <td>Life goals. https://t.co/XIn1qKMKQl</td>\n",
       "      <td>11/01/2017 02:52</td>\n",
       "      <td>2387</td>\n",
       "      <td>Life goals.</td>\n",
       "    </tr>\n",
       "    <tr>\n",
       "      <th>3</th>\n",
       "      <td>katyperry</td>\n",
       "      <td>Me right now 🙏🏻 https://t.co/gW55C1wrwd</td>\n",
       "      <td>11/01/2017 02:44</td>\n",
       "      <td>2458</td>\n",
       "      <td>Me right now 🙏🏻</td>\n",
       "    </tr>\n",
       "    <tr>\n",
       "      <th>4</th>\n",
       "      <td>katyperry</td>\n",
       "      <td>SISTERS ARE DOIN' IT FOR THEMSELVES! 🙌🏻💪🏻❤️ ht...</td>\n",
       "      <td>10/01/2017 05:22</td>\n",
       "      <td>4655</td>\n",
       "      <td>SISTERS ARE DOIN' IT FOR THEMSELVES! 🙌🏻💪🏻❤️</td>\n",
       "    </tr>\n",
       "  </tbody>\n",
       "</table>\n",
       "</div>"
      ],
      "text/plain": [
       "      author                                            content  \\\n",
       "0  katyperry  Is history repeating itself...?#DONTNORMALIZEH...   \n",
       "1  katyperry  @barackobama Thank you for your incredible gra...   \n",
       "2  katyperry                Life goals. https://t.co/XIn1qKMKQl   \n",
       "3  katyperry            Me right now 🙏🏻 https://t.co/gW55C1wrwd   \n",
       "4  katyperry  SISTERS ARE DOIN' IT FOR THEMSELVES! 🙌🏻💪🏻❤️ ht...   \n",
       "\n",
       "          date_time  number_of_shares  \\\n",
       "0  12/01/2017 19:52              3472   \n",
       "1  11/01/2017 08:38              1380   \n",
       "2  11/01/2017 02:52              2387   \n",
       "3  11/01/2017 02:44              2458   \n",
       "4  10/01/2017 05:22              4655   \n",
       "\n",
       "                                    Processed_Tweets  \n",
       "0  Is history repeating itself...?#DONTNORMALIZEHATE  \n",
       "1  @barackobama Thank you for your incredible gra...  \n",
       "2                                        Life goals.  \n",
       "3                                    Me right now 🙏🏻  \n",
       "4        SISTERS ARE DOIN' IT FOR THEMSELVES! 🙌🏻💪🏻❤️  "
      ]
     },
     "execution_count": 17,
     "metadata": {},
     "output_type": "execute_result"
    }
   ],
   "source": [
    "text_data['Processed_Tweets'] =text_data['content'].apply(clean_text)\n",
    "text_data.head()"
   ]
  },
  {
   "cell_type": "code",
   "execution_count": 18,
   "id": "7344b5b4",
   "metadata": {
    "id": "7344b5b4",
    "outputId": "791db454-3bc5-4c0e-900a-8f9a560bf056"
   },
   "outputs": [],
   "source": [
    "#remove links and urls\n",
    "# def remove_usernames_links(content):\n",
    "#     content=re.sub('http[^\\s]+','',content)\n",
    "#     return content\n",
    "    \n",
    "\n",
    "# text_data['Processed_Tweets'] =text_data['content'].apply(remove_usernames_links)\n",
    "# text_data.head()"
   ]
  },
  {
   "cell_type": "code",
   "execution_count": 19,
   "id": "d963d306",
   "metadata": {
    "id": "d963d306",
    "outputId": "b8b6355d-5ab2-49bd-ca58-6ed592c015ce"
   },
   "outputs": [
    {
     "data": {
      "text/plain": [
       "0    Is history repeating itself...?#DONTNORMALIZEHATE\n",
       "1    @barackobama Thank you for your incredible gra...\n",
       "2                                          Life goals.\n",
       "3                                      Me right now 🙏🏻\n",
       "Name: Processed_Tweets, dtype: object"
      ]
     },
     "execution_count": 19,
     "metadata": {},
     "output_type": "execute_result"
    }
   ],
   "source": [
    "text_data['Processed_Tweets'][0:4]"
   ]
  },
  {
   "cell_type": "code",
   "execution_count": 20,
   "id": "9b40a9b0",
   "metadata": {
    "id": "9b40a9b0",
    "outputId": "2a59401d-6648-46b3-eda2-432f4c15d3af"
   },
   "outputs": [
    {
     "data": {
      "text/plain": [
       "'!\"#$%&\\'()*+,-./:;<=>?@[\\\\]^_`{|}~'"
      ]
     },
     "execution_count": 20,
     "metadata": {},
     "output_type": "execute_result"
    }
   ],
   "source": [
    "# remove punctuation from the text column\n",
    "import string\n",
    "import html\n",
    "string.punctuation"
   ]
  },
  {
   "cell_type": "code",
   "execution_count": 21,
   "id": "53dd98df",
   "metadata": {
    "id": "53dd98df",
    "outputId": "478547f4-52c2-4482-b28e-a86168c5410a"
   },
   "outputs": [
    {
     "data": {
      "text/html": [
       "<div>\n",
       "<style scoped>\n",
       "    .dataframe tbody tr th:only-of-type {\n",
       "        vertical-align: middle;\n",
       "    }\n",
       "\n",
       "    .dataframe tbody tr th {\n",
       "        vertical-align: top;\n",
       "    }\n",
       "\n",
       "    .dataframe thead th {\n",
       "        text-align: right;\n",
       "    }\n",
       "</style>\n",
       "<table border=\"1\" class=\"dataframe\">\n",
       "  <thead>\n",
       "    <tr style=\"text-align: right;\">\n",
       "      <th></th>\n",
       "      <th>author</th>\n",
       "      <th>content</th>\n",
       "      <th>date_time</th>\n",
       "      <th>number_of_shares</th>\n",
       "      <th>Processed_Tweets</th>\n",
       "    </tr>\n",
       "  </thead>\n",
       "  <tbody>\n",
       "    <tr>\n",
       "      <th>0</th>\n",
       "      <td>katyperry</td>\n",
       "      <td>Is history repeating itself...?#DONTNORMALIZEH...</td>\n",
       "      <td>12/01/2017 19:52</td>\n",
       "      <td>3472</td>\n",
       "      <td>Is history repeating itselfDONTNORMALIZEHATE</td>\n",
       "    </tr>\n",
       "    <tr>\n",
       "      <th>1</th>\n",
       "      <td>katyperry</td>\n",
       "      <td>@barackobama Thank you for your incredible gra...</td>\n",
       "      <td>11/01/2017 08:38</td>\n",
       "      <td>1380</td>\n",
       "      <td>barackobama Thank you for your incredible grac...</td>\n",
       "    </tr>\n",
       "    <tr>\n",
       "      <th>2</th>\n",
       "      <td>katyperry</td>\n",
       "      <td>Life goals. https://t.co/XIn1qKMKQl</td>\n",
       "      <td>11/01/2017 02:52</td>\n",
       "      <td>2387</td>\n",
       "      <td>Life goals</td>\n",
       "    </tr>\n",
       "    <tr>\n",
       "      <th>3</th>\n",
       "      <td>katyperry</td>\n",
       "      <td>Me right now 🙏🏻 https://t.co/gW55C1wrwd</td>\n",
       "      <td>11/01/2017 02:44</td>\n",
       "      <td>2458</td>\n",
       "      <td>Me right now 🙏🏻</td>\n",
       "    </tr>\n",
       "    <tr>\n",
       "      <th>4</th>\n",
       "      <td>katyperry</td>\n",
       "      <td>SISTERS ARE DOIN' IT FOR THEMSELVES! 🙌🏻💪🏻❤️ ht...</td>\n",
       "      <td>10/01/2017 05:22</td>\n",
       "      <td>4655</td>\n",
       "      <td>SISTERS ARE DOIN IT FOR THEMSELVES 🙌🏻💪🏻❤️</td>\n",
       "    </tr>\n",
       "  </tbody>\n",
       "</table>\n",
       "</div>"
      ],
      "text/plain": [
       "      author                                            content  \\\n",
       "0  katyperry  Is history repeating itself...?#DONTNORMALIZEH...   \n",
       "1  katyperry  @barackobama Thank you for your incredible gra...   \n",
       "2  katyperry                Life goals. https://t.co/XIn1qKMKQl   \n",
       "3  katyperry            Me right now 🙏🏻 https://t.co/gW55C1wrwd   \n",
       "4  katyperry  SISTERS ARE DOIN' IT FOR THEMSELVES! 🙌🏻💪🏻❤️ ht...   \n",
       "\n",
       "          date_time  number_of_shares  \\\n",
       "0  12/01/2017 19:52              3472   \n",
       "1  11/01/2017 08:38              1380   \n",
       "2  11/01/2017 02:52              2387   \n",
       "3  11/01/2017 02:44              2458   \n",
       "4  10/01/2017 05:22              4655   \n",
       "\n",
       "                                    Processed_Tweets  \n",
       "0       Is history repeating itselfDONTNORMALIZEHATE  \n",
       "1  barackobama Thank you for your incredible grac...  \n",
       "2                                         Life goals  \n",
       "3                                    Me right now 🙏🏻  \n",
       "4          SISTERS ARE DOIN IT FOR THEMSELVES 🙌🏻💪🏻❤️  "
      ]
     },
     "execution_count": 21,
     "metadata": {},
     "output_type": "execute_result"
    }
   ],
   "source": [
    "def remove_punctuation(content):\n",
    "    no_punct=[words for words in content if words not in string.punctuation]\n",
    "    words_wo_punct=''.join(no_punct)\n",
    "    return words_wo_punct\n",
    "text_data['Processed_Tweets']=text_data['Processed_Tweets'].apply(lambda x: remove_punctuation(x))\n",
    "text_data.head()"
   ]
  },
  {
   "cell_type": "code",
   "execution_count": 22,
   "id": "5a3b6609",
   "metadata": {
    "id": "5a3b6609",
    "outputId": "d6e76a28-884a-433f-c05f-8b90717416d1"
   },
   "outputs": [
    {
     "data": {
      "text/plain": [
       "0         Is history repeating itselfDONTNORMALIZEHATE\n",
       "1    barackobama Thank you for your incredible grac...\n",
       "2                                           Life goals\n",
       "3                                      Me right now 🙏🏻\n",
       "4            SISTERS ARE DOIN IT FOR THEMSELVES 🙌🏻💪🏻❤️\n",
       "5    happy 96th gma fourmoreyears 🎈  LACMA Los Ange...\n",
       "6                               Kyoto Japan \\r\\n1 5 17\n",
       "7                                  🇯🇵  Sanrio Puroland\n",
       "8               2017 resolution to embody authenticity\n",
       "9                                              sisters\n",
       "Name: Processed_Tweets, dtype: object"
      ]
     },
     "execution_count": 22,
     "metadata": {},
     "output_type": "execute_result"
    }
   ],
   "source": [
    "text_data['Processed_Tweets'][0:10]"
   ]
  },
  {
   "cell_type": "code",
   "execution_count": 23,
   "id": "ca7412b0",
   "metadata": {
    "id": "ca7412b0",
    "outputId": "c8178478-b698-4023-d7ac-bec7e24cf888"
   },
   "outputs": [
    {
     "data": {
      "text/html": [
       "<div>\n",
       "<style scoped>\n",
       "    .dataframe tbody tr th:only-of-type {\n",
       "        vertical-align: middle;\n",
       "    }\n",
       "\n",
       "    .dataframe tbody tr th {\n",
       "        vertical-align: top;\n",
       "    }\n",
       "\n",
       "    .dataframe thead th {\n",
       "        text-align: right;\n",
       "    }\n",
       "</style>\n",
       "<table border=\"1\" class=\"dataframe\">\n",
       "  <thead>\n",
       "    <tr style=\"text-align: right;\">\n",
       "      <th></th>\n",
       "      <th>author</th>\n",
       "      <th>content</th>\n",
       "      <th>date_time</th>\n",
       "      <th>number_of_shares</th>\n",
       "      <th>Processed_Tweets</th>\n",
       "    </tr>\n",
       "  </thead>\n",
       "  <tbody>\n",
       "    <tr>\n",
       "      <th>0</th>\n",
       "      <td>katyperry</td>\n",
       "      <td>Is history repeating itself...?#DONTNORMALIZEH...</td>\n",
       "      <td>12/01/2017 19:52</td>\n",
       "      <td>3472</td>\n",
       "      <td>Is history repeating itselfDONTNORMALIZEHATE</td>\n",
       "    </tr>\n",
       "    <tr>\n",
       "      <th>1</th>\n",
       "      <td>katyperry</td>\n",
       "      <td>@barackobama Thank you for your incredible gra...</td>\n",
       "      <td>11/01/2017 08:38</td>\n",
       "      <td>1380</td>\n",
       "      <td>barackobama Thank you for your incredible grac...</td>\n",
       "    </tr>\n",
       "    <tr>\n",
       "      <th>2</th>\n",
       "      <td>katyperry</td>\n",
       "      <td>Life goals. https://t.co/XIn1qKMKQl</td>\n",
       "      <td>11/01/2017 02:52</td>\n",
       "      <td>2387</td>\n",
       "      <td>Life goals</td>\n",
       "    </tr>\n",
       "    <tr>\n",
       "      <th>3</th>\n",
       "      <td>katyperry</td>\n",
       "      <td>Me right now 🙏🏻 https://t.co/gW55C1wrwd</td>\n",
       "      <td>11/01/2017 02:44</td>\n",
       "      <td>2458</td>\n",
       "      <td>Me right now 🙏🏻</td>\n",
       "    </tr>\n",
       "    <tr>\n",
       "      <th>4</th>\n",
       "      <td>katyperry</td>\n",
       "      <td>SISTERS ARE DOIN' IT FOR THEMSELVES! 🙌🏻💪🏻❤️ ht...</td>\n",
       "      <td>10/01/2017 05:22</td>\n",
       "      <td>4655</td>\n",
       "      <td>SISTERS ARE DOIN IT FOR THEMSELVES 🙌🏻💪🏻❤️</td>\n",
       "    </tr>\n",
       "  </tbody>\n",
       "</table>\n",
       "</div>"
      ],
      "text/plain": [
       "      author                                            content  \\\n",
       "0  katyperry  Is history repeating itself...?#DONTNORMALIZEH...   \n",
       "1  katyperry  @barackobama Thank you for your incredible gra...   \n",
       "2  katyperry                Life goals. https://t.co/XIn1qKMKQl   \n",
       "3  katyperry            Me right now 🙏🏻 https://t.co/gW55C1wrwd   \n",
       "4  katyperry  SISTERS ARE DOIN' IT FOR THEMSELVES! 🙌🏻💪🏻❤️ ht...   \n",
       "\n",
       "          date_time  number_of_shares  \\\n",
       "0  12/01/2017 19:52              3472   \n",
       "1  11/01/2017 08:38              1380   \n",
       "2  11/01/2017 02:52              2387   \n",
       "3  11/01/2017 02:44              2458   \n",
       "4  10/01/2017 05:22              4655   \n",
       "\n",
       "                                    Processed_Tweets  \n",
       "0       Is history repeating itselfDONTNORMALIZEHATE  \n",
       "1  barackobama Thank you for your incredible grac...  \n",
       "2                                         Life goals  \n",
       "3                                    Me right now 🙏🏻  \n",
       "4          SISTERS ARE DOIN IT FOR THEMSELVES 🙌🏻💪🏻❤️  "
      ]
     },
     "execution_count": 23,
     "metadata": {},
     "output_type": "execute_result"
    }
   ],
   "source": [
    "# remove numbers \n",
    "def remove_numbers(Processed_Tweets):\n",
    "    Processed_Tweets=re.sub(r'\\d','',Processed_Tweets)\n",
    "    return Processed_Tweets\n",
    "text_data['Processed_Tweets']=text_data['Processed_Tweets'].apply(lambda x: remove_numbers(x))\n",
    "text_data.head()"
   ]
  },
  {
   "cell_type": "code",
   "execution_count": 24,
   "id": "a34c196d",
   "metadata": {},
   "outputs": [
    {
     "data": {
      "text/plain": [
       "0         Is history repeating itselfDONTNORMALIZEHATE\n",
       "1    barackobama Thank you for your incredible grac...\n",
       "2                                           Life goals\n",
       "3                                      Me right now 🙏🏻\n",
       "4            SISTERS ARE DOIN IT FOR THEMSELVES 🙌🏻💪🏻❤️\n",
       "5    happy th gma fourmoreyears 🎈  LACMA Los Angele...\n",
       "6                                   Kyoto Japan \\r\\n  \n",
       "7                                  🇯🇵  Sanrio Puroland\n",
       "8                    resolution to embody authenticity\n",
       "9                                              sisters\n",
       "Name: Processed_Tweets, dtype: object"
      ]
     },
     "execution_count": 24,
     "metadata": {},
     "output_type": "execute_result"
    }
   ],
   "source": [
    "text_data['Processed_Tweets'][0:10]"
   ]
  },
  {
   "cell_type": "code",
   "execution_count": 25,
   "id": "68a7f273",
   "metadata": {},
   "outputs": [],
   "source": [
    "for i in range (len(text_data['Processed_Tweets'])):\n",
    "    \n",
    "    x = text_data['Processed_Tweets'][i].replace(\"\\n\",\" \").replace(\"\\r\",\" \") #cleaning newline “\\n” from the tweets\n",
    "    text_data['Processed_Tweets'][i] = html.unescape(x)"
   ]
  },
  {
   "cell_type": "code",
   "execution_count": 26,
   "id": "44112593",
   "metadata": {},
   "outputs": [
    {
     "data": {
      "text/plain": [
       "0         Is history repeating itselfDONTNORMALIZEHATE\n",
       "1    barackobama Thank you for your incredible grac...\n",
       "2                                           Life goals\n",
       "3                                      Me right now 🙏🏻\n",
       "4            SISTERS ARE DOIN IT FOR THEMSELVES 🙌🏻💪🏻❤️\n",
       "5    happy th gma fourmoreyears 🎈  LACMA Los Angele...\n",
       "6                                     Kyoto Japan     \n",
       "7                                  🇯🇵  Sanrio Puroland\n",
       "8                    resolution to embody authenticity\n",
       "9                                              sisters\n",
       "Name: Processed_Tweets, dtype: object"
      ]
     },
     "execution_count": 26,
     "metadata": {},
     "output_type": "execute_result"
    }
   ],
   "source": [
    "text_data['Processed_Tweets'][0:10]"
   ]
  },
  {
   "cell_type": "code",
   "execution_count": 27,
   "id": "ee4e348e",
   "metadata": {
    "id": "ee4e348e",
    "outputId": "74c74c81-7d9c-42c4-8ac7-f1f8687d898b"
   },
   "outputs": [
    {
     "data": {
      "text/html": [
       "<div>\n",
       "<style scoped>\n",
       "    .dataframe tbody tr th:only-of-type {\n",
       "        vertical-align: middle;\n",
       "    }\n",
       "\n",
       "    .dataframe tbody tr th {\n",
       "        vertical-align: top;\n",
       "    }\n",
       "\n",
       "    .dataframe thead th {\n",
       "        text-align: right;\n",
       "    }\n",
       "</style>\n",
       "<table border=\"1\" class=\"dataframe\">\n",
       "  <thead>\n",
       "    <tr style=\"text-align: right;\">\n",
       "      <th></th>\n",
       "      <th>author</th>\n",
       "      <th>content</th>\n",
       "      <th>date_time</th>\n",
       "      <th>number_of_shares</th>\n",
       "      <th>Processed_Tweets</th>\n",
       "    </tr>\n",
       "  </thead>\n",
       "  <tbody>\n",
       "    <tr>\n",
       "      <th>0</th>\n",
       "      <td>katyperry</td>\n",
       "      <td>Is history repeating itself...?#DONTNORMALIZEH...</td>\n",
       "      <td>12/01/2017 19:52</td>\n",
       "      <td>3472</td>\n",
       "      <td>Is history repeating itselfDONTNORMALIZEHATE</td>\n",
       "    </tr>\n",
       "    <tr>\n",
       "      <th>1</th>\n",
       "      <td>katyperry</td>\n",
       "      <td>@barackobama Thank you for your incredible gra...</td>\n",
       "      <td>11/01/2017 08:38</td>\n",
       "      <td>1380</td>\n",
       "      <td>barackobama Thank you for your incredible grac...</td>\n",
       "    </tr>\n",
       "    <tr>\n",
       "      <th>2</th>\n",
       "      <td>katyperry</td>\n",
       "      <td>Life goals. https://t.co/XIn1qKMKQl</td>\n",
       "      <td>11/01/2017 02:52</td>\n",
       "      <td>2387</td>\n",
       "      <td>Life goals</td>\n",
       "    </tr>\n",
       "    <tr>\n",
       "      <th>3</th>\n",
       "      <td>katyperry</td>\n",
       "      <td>Me right now 🙏🏻 https://t.co/gW55C1wrwd</td>\n",
       "      <td>11/01/2017 02:44</td>\n",
       "      <td>2458</td>\n",
       "      <td>Me right now</td>\n",
       "    </tr>\n",
       "    <tr>\n",
       "      <th>4</th>\n",
       "      <td>katyperry</td>\n",
       "      <td>SISTERS ARE DOIN' IT FOR THEMSELVES! 🙌🏻💪🏻❤️ ht...</td>\n",
       "      <td>10/01/2017 05:22</td>\n",
       "      <td>4655</td>\n",
       "      <td>SISTERS ARE DOIN IT FOR THEMSELVES</td>\n",
       "    </tr>\n",
       "  </tbody>\n",
       "</table>\n",
       "</div>"
      ],
      "text/plain": [
       "      author                                            content  \\\n",
       "0  katyperry  Is history repeating itself...?#DONTNORMALIZEH...   \n",
       "1  katyperry  @barackobama Thank you for your incredible gra...   \n",
       "2  katyperry                Life goals. https://t.co/XIn1qKMKQl   \n",
       "3  katyperry            Me right now 🙏🏻 https://t.co/gW55C1wrwd   \n",
       "4  katyperry  SISTERS ARE DOIN' IT FOR THEMSELVES! 🙌🏻💪🏻❤️ ht...   \n",
       "\n",
       "          date_time  number_of_shares  \\\n",
       "0  12/01/2017 19:52              3472   \n",
       "1  11/01/2017 08:38              1380   \n",
       "2  11/01/2017 02:52              2387   \n",
       "3  11/01/2017 02:44              2458   \n",
       "4  10/01/2017 05:22              4655   \n",
       "\n",
       "                                    Processed_Tweets  \n",
       "0       Is history repeating itselfDONTNORMALIZEHATE  \n",
       "1  barackobama Thank you for your incredible grac...  \n",
       "2                                         Life goals  \n",
       "3                                      Me right now   \n",
       "4                SISTERS ARE DOIN IT FOR THEMSELVES   "
      ]
     },
     "execution_count": 27,
     "metadata": {},
     "output_type": "execute_result"
    }
   ],
   "source": [
    "#remove emojis\n",
    "def deEmojify(inputString):\n",
    "    return inputString.encode('ascii','ignore').decode('ascii')\n",
    "text_data['Processed_Tweets']=text_data['Processed_Tweets'].apply(lambda s:deEmojify(s))\n",
    "text_data.head()"
   ]
  },
  {
   "cell_type": "code",
   "execution_count": 28,
   "id": "cc1ab69a",
   "metadata": {},
   "outputs": [
    {
     "data": {
      "text/plain": [
       "0         Is history repeating itselfDONTNORMALIZEHATE\n",
       "1    barackobama Thank you for your incredible grac...\n",
       "2                                           Life goals\n",
       "3                                        Me right now \n",
       "4                  SISTERS ARE DOIN IT FOR THEMSELVES \n",
       "5    happy th gma fourmoreyears   LACMA Los Angeles...\n",
       "6                                     Kyoto Japan     \n",
       "7                                      Sanrio Puroland\n",
       "8                    resolution to embody authenticity\n",
       "9                                              sisters\n",
       "Name: Processed_Tweets, dtype: object"
      ]
     },
     "execution_count": 28,
     "metadata": {},
     "output_type": "execute_result"
    }
   ],
   "source": [
    "text_data['Processed_Tweets'][0:10]"
   ]
  },
  {
   "cell_type": "code",
   "execution_count": 29,
   "id": "cffcdd2b",
   "metadata": {
    "id": "cffcdd2b",
    "outputId": "27f06b5a-c508-4a0e-c4d8-d53980044b4b"
   },
   "outputs": [
    {
     "data": {
      "text/html": [
       "<div>\n",
       "<style scoped>\n",
       "    .dataframe tbody tr th:only-of-type {\n",
       "        vertical-align: middle;\n",
       "    }\n",
       "\n",
       "    .dataframe tbody tr th {\n",
       "        vertical-align: top;\n",
       "    }\n",
       "\n",
       "    .dataframe thead th {\n",
       "        text-align: right;\n",
       "    }\n",
       "</style>\n",
       "<table border=\"1\" class=\"dataframe\">\n",
       "  <thead>\n",
       "    <tr style=\"text-align: right;\">\n",
       "      <th></th>\n",
       "      <th>author</th>\n",
       "      <th>content</th>\n",
       "      <th>date_time</th>\n",
       "      <th>number_of_shares</th>\n",
       "      <th>Processed_Tweets</th>\n",
       "    </tr>\n",
       "  </thead>\n",
       "  <tbody>\n",
       "    <tr>\n",
       "      <th>0</th>\n",
       "      <td>katyperry</td>\n",
       "      <td>Is history repeating itself...?#DONTNORMALIZEH...</td>\n",
       "      <td>12/01/2017 19:52</td>\n",
       "      <td>3472</td>\n",
       "      <td>is history repeating itselfdontnormalizehate</td>\n",
       "    </tr>\n",
       "    <tr>\n",
       "      <th>1</th>\n",
       "      <td>katyperry</td>\n",
       "      <td>@barackobama Thank you for your incredible gra...</td>\n",
       "      <td>11/01/2017 08:38</td>\n",
       "      <td>1380</td>\n",
       "      <td>barackobama thank you for your incredible grac...</td>\n",
       "    </tr>\n",
       "    <tr>\n",
       "      <th>2</th>\n",
       "      <td>katyperry</td>\n",
       "      <td>Life goals. https://t.co/XIn1qKMKQl</td>\n",
       "      <td>11/01/2017 02:52</td>\n",
       "      <td>2387</td>\n",
       "      <td>life goals</td>\n",
       "    </tr>\n",
       "    <tr>\n",
       "      <th>3</th>\n",
       "      <td>katyperry</td>\n",
       "      <td>Me right now 🙏🏻 https://t.co/gW55C1wrwd</td>\n",
       "      <td>11/01/2017 02:44</td>\n",
       "      <td>2458</td>\n",
       "      <td>me right now</td>\n",
       "    </tr>\n",
       "    <tr>\n",
       "      <th>4</th>\n",
       "      <td>katyperry</td>\n",
       "      <td>SISTERS ARE DOIN' IT FOR THEMSELVES! 🙌🏻💪🏻❤️ ht...</td>\n",
       "      <td>10/01/2017 05:22</td>\n",
       "      <td>4655</td>\n",
       "      <td>sisters are doin it for themselves</td>\n",
       "    </tr>\n",
       "  </tbody>\n",
       "</table>\n",
       "</div>"
      ],
      "text/plain": [
       "      author                                            content  \\\n",
       "0  katyperry  Is history repeating itself...?#DONTNORMALIZEH...   \n",
       "1  katyperry  @barackobama Thank you for your incredible gra...   \n",
       "2  katyperry                Life goals. https://t.co/XIn1qKMKQl   \n",
       "3  katyperry            Me right now 🙏🏻 https://t.co/gW55C1wrwd   \n",
       "4  katyperry  SISTERS ARE DOIN' IT FOR THEMSELVES! 🙌🏻💪🏻❤️ ht...   \n",
       "\n",
       "          date_time  number_of_shares  \\\n",
       "0  12/01/2017 19:52              3472   \n",
       "1  11/01/2017 08:38              1380   \n",
       "2  11/01/2017 02:52              2387   \n",
       "3  11/01/2017 02:44              2458   \n",
       "4  10/01/2017 05:22              4655   \n",
       "\n",
       "                                    Processed_Tweets  \n",
       "0       is history repeating itselfdontnormalizehate  \n",
       "1  barackobama thank you for your incredible grac...  \n",
       "2                                         life goals  \n",
       "3                                      me right now   \n",
       "4                sisters are doin it for themselves   "
      ]
     },
     "execution_count": 29,
     "metadata": {},
     "output_type": "execute_result"
    }
   ],
   "source": [
    "#convert cleaned text to lower case\n",
    "text_data['Processed_Tweets']=text_data['Processed_Tweets'].str.lower()\n",
    "text_data.head()"
   ]
  },
  {
   "cell_type": "code",
   "execution_count": 30,
   "id": "52d74536",
   "metadata": {
    "id": "52d74536",
    "outputId": "fa347582-10a3-4372-b5e9-9cc03d758d8c"
   },
   "outputs": [
    {
     "data": {
      "text/plain": [
       "0         is history repeating itselfdontnormalizehate\n",
       "1    barackobama thank you for your incredible grac...\n",
       "2                                           life goals\n",
       "3                                        me right now \n",
       "4                  sisters are doin it for themselves \n",
       "Name: Processed_Tweets, dtype: object"
      ]
     },
     "execution_count": 30,
     "metadata": {},
     "output_type": "execute_result"
    }
   ],
   "source": [
    "df2=text_data['Processed_Tweets']\n",
    "df2.head()"
   ]
  },
  {
   "cell_type": "code",
   "execution_count": 31,
   "id": "bc93e632",
   "metadata": {
    "id": "bc93e632"
   },
   "outputs": [],
   "source": [
    "# df2.to_csv('ner_data.csv',index=False)"
   ]
  },
  {
   "cell_type": "code",
   "execution_count": 32,
   "id": "9e2ecdf6",
   "metadata": {
    "id": "9e2ecdf6",
    "outputId": "0746a2ea-11d6-453f-fb2b-c03260f6ccda"
   },
   "outputs": [],
   "source": [
    "# panda=pd.read_csv('ner_data.csv')\n",
    "# panda=panda.dropna(how='all')"
   ]
  },
  {
   "cell_type": "code",
   "execution_count": 50,
   "id": "3d9c3f45",
   "metadata": {},
   "outputs": [
    {
     "ename": "NameError",
     "evalue": "name 'panda' is not defined",
     "output_type": "error",
     "traceback": [
      "\u001b[0;31m---------------------------------------------------------------------------\u001b[0m",
      "\u001b[0;31mNameError\u001b[0m                                 Traceback (most recent call last)",
      "Cell \u001b[0;32mIn[50], line 1\u001b[0m\n\u001b[0;32m----> 1\u001b[0m \u001b[43mpanda\u001b[49m\u001b[38;5;241m.\u001b[39mtail()\n",
      "\u001b[0;31mNameError\u001b[0m: name 'panda' is not defined"
     ]
    }
   ],
   "source": [
    "#panda.tail()"
   ]
  },
  {
   "cell_type": "code",
   "execution_count": 34,
   "id": "f8b7da23",
   "metadata": {
    "id": "f8b7da23",
    "outputId": "6e446d61-29b1-435f-8335-d9f08d63922f"
   },
   "outputs": [
    {
     "ename": "ModuleNotFoundError",
     "evalue": "No module named 'nltk'",
     "output_type": "error",
     "traceback": [
      "\u001b[0;31m---------------------------------------------------------------------------\u001b[0m",
      "\u001b[0;31mModuleNotFoundError\u001b[0m                       Traceback (most recent call last)",
      "Cell \u001b[0;32mIn[34], line 2\u001b[0m\n\u001b[1;32m      1\u001b[0m \u001b[38;5;66;03m# importing libraries for preprocessing\u001b[39;00m\n\u001b[0;32m----> 2\u001b[0m \u001b[38;5;28;01mimport\u001b[39;00m \u001b[38;5;21;01mnltk\u001b[39;00m\n\u001b[1;32m      3\u001b[0m nltk\u001b[38;5;241m.\u001b[39mdownload(\u001b[38;5;124m'\u001b[39m\u001b[38;5;124mstopwords\u001b[39m\u001b[38;5;124m'\u001b[39m)\n\u001b[1;32m      4\u001b[0m nltk\u001b[38;5;241m.\u001b[39mdownload(\u001b[38;5;124m'\u001b[39m\u001b[38;5;124mpunkt\u001b[39m\u001b[38;5;124m'\u001b[39m)\n",
      "\u001b[0;31mModuleNotFoundError\u001b[0m: No module named 'nltk'"
     ]
    }
   ],
   "source": [
    "# importing libraries for preprocessing\n",
    "import nltk\n",
    "nltk.download('stopwords')\n",
    "nltk.download('punkt')\n",
    "nltk.download('wordnet')\n",
    "from nltk.tokenize import word_tokenize\n",
    "from nltk.corpus import stopwords\n",
    "from nltk.stem import WordNetLemmatizer\n",
    "# from nltk.stem.porter import PorterStemmer\n",
    "# from sklearn.feature_extraction.text import TfidfVectorizer\n",
    "import os\n",
    "import string\n",
    "\n",
    "from wordcloud import WordCloud, STOPWORDS\n",
    "lemmatizer=WordNetLemmatizer()\n",
    "# %matplotlib inline\n",
    "import matplotlib.pyplot as plt"
   ]
  },
  {
   "cell_type": "code",
   "execution_count": null,
   "id": "1f3f25b1",
   "metadata": {
    "id": "1f3f25b1"
   },
   "outputs": [],
   "source": [
    "eng_stop_words=list(stopwords.words('english'))"
   ]
  },
  {
   "cell_type": "code",
   "execution_count": null,
   "id": "151edbf8",
   "metadata": {},
   "outputs": [],
   "source": [
    "def PreprocessedTweets(content):\n",
    "    # Initialize the lemmatizer\n",
    "    lemmatizer = WordNetLemmatizer()\n",
    "    \n",
    "    # Tokenize the tweet\n",
    "    tokens = word_tokenize(content)\n",
    "    \n",
    "    # Remove stop words\n",
    "    stop_words = set(stopwords.words('english'))\n",
    "    tokens = [word for word in tokens if word.lower() not in stop_words]\n",
    "    \n",
    "    # Lemmatize tokens\n",
    "    tokens = [lemmatizer.lemmatize(word) for word in tokens]\n",
    "    \n",
    "    # Reconstruct the tweet\n",
    "    cleaned_tweet = ' '.join(tokens)\n",
    "    return cleaned_tweet\n"
   ]
  },
  {
   "cell_type": "code",
   "execution_count": null,
   "id": "b2d5466d",
   "metadata": {
    "id": "b2d5466d",
    "outputId": "30e72541-b900-4ee1-cb73-5efc66a91cd6"
   },
   "outputs": [],
   "source": [
    "text_data['Processed_Tweets']=text_data['Processed_Tweets'].apply(PreprocessedTweets)"
   ]
  },
  {
   "cell_type": "code",
   "execution_count": null,
   "id": "92e2cb8d",
   "metadata": {
    "id": "92e2cb8d",
    "outputId": "8ff0879c-23a6-4090-fbc6-a7229b67546a"
   },
   "outputs": [],
   "source": [
    "text_data['Processed_Tweets'][0:10]"
   ]
  },
  {
   "cell_type": "markdown",
   "id": "2911454d",
   "metadata": {
    "id": "2911454d"
   },
   "source": [
    "## Analyzing Text statistics"
   ]
  },
  {
   "cell_type": "code",
   "execution_count": null,
   "id": "55e3bd00",
   "metadata": {
    "id": "55e3bd00",
    "outputId": "3e1918bb-b4e8-404d-cc6f-3792390aa829"
   },
   "outputs": [],
   "source": [
    "#number of characters present in each sentence\n",
    "text_data['Processed_Tweets'].str.len().hist()"
   ]
  },
  {
   "cell_type": "markdown",
   "id": "ad6e1527",
   "metadata": {
    "id": "ad6e1527"
   },
   "source": [
    "- We can see that for the preprocessed tweets, the number of characters range approximately between 0 to 140.\n",
    "- Majority of the sentences have 10-80 words."
   ]
  },
  {
   "cell_type": "code",
   "execution_count": null,
   "id": "4f99c61a",
   "metadata": {
    "id": "4f99c61a"
   },
   "outputs": [],
   "source": [
    "# number of words appearing in each processed tweets\n",
    "def plot_word_number_histogram(text):\n",
    "    text.str.split().\\\n",
    "        map(lambda x: len(x)).\\\n",
    "        hist()"
   ]
  },
  {
   "cell_type": "code",
   "execution_count": null,
   "id": "00957f99",
   "metadata": {
    "id": "00957f99",
    "outputId": "c57f9a04-033e-420d-b024-22f7d97ece64"
   },
   "outputs": [],
   "source": [
    "plot_word_number_histogram(text_data['Processed_Tweets'])"
   ]
  },
  {
   "cell_type": "markdown",
   "id": "66880d01",
   "metadata": {
    "id": "66880d01"
   },
   "source": [
    "- Number of words appearing in the processed tweets range between 2 to 20 words"
   ]
  },
  {
   "cell_type": "code",
   "execution_count": 38,
   "id": "64881463",
   "metadata": {
    "id": "64881463"
   },
   "outputs": [],
   "source": [
    "import numpy as np"
   ]
  },
  {
   "cell_type": "code",
   "execution_count": 39,
   "id": "a382954e",
   "metadata": {
    "id": "a382954e"
   },
   "outputs": [],
   "source": [
    "# Analyzing the stop words removed from the original tweets\n",
    "def plot_top_stopwords_barchart(text):\n",
    "    stop=set(stopwords.words('english'))\n",
    "    \n",
    "    new= text.str.split()\n",
    "    new=new.values.tolist()\n",
    "    corpus=[word for i in new for word in i]\n",
    "    from collections import defaultdict\n",
    "    dic=defaultdict(int)\n",
    "    for word in corpus:\n",
    "        if word in stop:\n",
    "            dic[word]+=1\n",
    "            \n",
    "    top=sorted(dic.items(), key=lambda x:x[1],reverse=True)[:10] \n",
    "    x,y=zip(*top)\n",
    "    plt.bar(x,y)"
   ]
  },
  {
   "cell_type": "code",
   "execution_count": 40,
   "id": "26ee0c50",
   "metadata": {
    "id": "26ee0c50",
    "outputId": "16b1f378-8472-46ad-80fc-58f25fad6586"
   },
   "outputs": [
    {
     "ename": "NameError",
     "evalue": "name 'stopwords' is not defined",
     "output_type": "error",
     "traceback": [
      "\u001b[0;31m---------------------------------------------------------------------------\u001b[0m",
      "\u001b[0;31mNameError\u001b[0m                                 Traceback (most recent call last)",
      "Cell \u001b[0;32mIn[40], line 1\u001b[0m\n\u001b[0;32m----> 1\u001b[0m \u001b[43mplot_top_stopwords_barchart\u001b[49m\u001b[43m(\u001b[49m\u001b[43mtext_data\u001b[49m\u001b[43m[\u001b[49m\u001b[38;5;124;43m'\u001b[39;49m\u001b[38;5;124;43mcontent\u001b[39;49m\u001b[38;5;124;43m'\u001b[39;49m\u001b[43m]\u001b[49m\u001b[43m)\u001b[49m\n",
      "Cell \u001b[0;32mIn[39], line 3\u001b[0m, in \u001b[0;36mplot_top_stopwords_barchart\u001b[0;34m(text)\u001b[0m\n\u001b[1;32m      2\u001b[0m \u001b[38;5;28;01mdef\u001b[39;00m \u001b[38;5;21mplot_top_stopwords_barchart\u001b[39m(text):\n\u001b[0;32m----> 3\u001b[0m     stop\u001b[38;5;241m=\u001b[39m\u001b[38;5;28mset\u001b[39m(\u001b[43mstopwords\u001b[49m\u001b[38;5;241m.\u001b[39mwords(\u001b[38;5;124m'\u001b[39m\u001b[38;5;124menglish\u001b[39m\u001b[38;5;124m'\u001b[39m))\n\u001b[1;32m      5\u001b[0m     new\u001b[38;5;241m=\u001b[39m text\u001b[38;5;241m.\u001b[39mstr\u001b[38;5;241m.\u001b[39msplit()\n\u001b[1;32m      6\u001b[0m     new\u001b[38;5;241m=\u001b[39mnew\u001b[38;5;241m.\u001b[39mvalues\u001b[38;5;241m.\u001b[39mtolist()\n",
      "\u001b[0;31mNameError\u001b[0m: name 'stopwords' is not defined"
     ]
    }
   ],
   "source": [
    "plot_top_stopwords_barchart(text_data['content'])"
   ]
  },
  {
   "cell_type": "markdown",
   "id": "7201551b",
   "metadata": {
    "id": "7201551b"
   },
   "source": [
    "The most common stop word in the Text column was the, followed by to and a. The least in the top 10 common stop words is my."
   ]
  },
  {
   "cell_type": "code",
   "execution_count": 41,
   "id": "4fb4c7cf",
   "metadata": {
    "id": "4fb4c7cf"
   },
   "outputs": [],
   "source": [
    "#Top non stop words\n",
    "import seaborn as sns\n",
    "from collections import  Counter\n"
   ]
  },
  {
   "cell_type": "code",
   "execution_count": 42,
   "id": "3c71c656",
   "metadata": {
    "id": "3c71c656"
   },
   "outputs": [],
   "source": [
    "def plot_top_non_stopwords_barchart(text):\n",
    "    stop=set(stopwords.words('english'))\n",
    "    \n",
    "    new= text.str.split()\n",
    "    new=new.values.tolist()\n",
    "    corpus=[word for i in new for word in i]\n",
    "\n",
    "    counter=Counter(corpus)\n",
    "    most=counter.most_common()\n",
    "    x, y=[], []\n",
    "    for word,count in most[:20]:\n",
    "        #if (word not in stop):\n",
    "            x.append(word)\n",
    "            y.append(count)\n",
    "            \n",
    "    sns.barplot(x=y,y=x)"
   ]
  },
  {
   "cell_type": "code",
   "execution_count": 43,
   "id": "782e444e",
   "metadata": {
    "id": "782e444e",
    "outputId": "54590479-b7ac-43f8-af55-b493fba992d4"
   },
   "outputs": [
    {
     "ename": "NameError",
     "evalue": "name 'stopwords' is not defined",
     "output_type": "error",
     "traceback": [
      "\u001b[0;31m---------------------------------------------------------------------------\u001b[0m",
      "\u001b[0;31mNameError\u001b[0m                                 Traceback (most recent call last)",
      "Cell \u001b[0;32mIn[43], line 1\u001b[0m\n\u001b[0;32m----> 1\u001b[0m \u001b[43mplot_top_non_stopwords_barchart\u001b[49m\u001b[43m(\u001b[49m\u001b[43mtext_data\u001b[49m\u001b[43m[\u001b[49m\u001b[38;5;124;43m'\u001b[39;49m\u001b[38;5;124;43mProcessed_Tweets\u001b[39;49m\u001b[38;5;124;43m'\u001b[39;49m\u001b[43m]\u001b[49m\u001b[43m)\u001b[49m\n",
      "Cell \u001b[0;32mIn[42], line 2\u001b[0m, in \u001b[0;36mplot_top_non_stopwords_barchart\u001b[0;34m(text)\u001b[0m\n\u001b[1;32m      1\u001b[0m \u001b[38;5;28;01mdef\u001b[39;00m \u001b[38;5;21mplot_top_non_stopwords_barchart\u001b[39m(text):\n\u001b[0;32m----> 2\u001b[0m     stop\u001b[38;5;241m=\u001b[39m\u001b[38;5;28mset\u001b[39m(\u001b[43mstopwords\u001b[49m\u001b[38;5;241m.\u001b[39mwords(\u001b[38;5;124m'\u001b[39m\u001b[38;5;124menglish\u001b[39m\u001b[38;5;124m'\u001b[39m))\n\u001b[1;32m      4\u001b[0m     new\u001b[38;5;241m=\u001b[39m text\u001b[38;5;241m.\u001b[39mstr\u001b[38;5;241m.\u001b[39msplit()\n\u001b[1;32m      5\u001b[0m     new\u001b[38;5;241m=\u001b[39mnew\u001b[38;5;241m.\u001b[39mvalues\u001b[38;5;241m.\u001b[39mtolist()\n",
      "\u001b[0;31mNameError\u001b[0m: name 'stopwords' is not defined"
     ]
    }
   ],
   "source": [
    "plot_top_non_stopwords_barchart(text_data['Processed_Tweets'])"
   ]
  },
  {
   "cell_type": "markdown",
   "id": "5a75ae65",
   "metadata": {
    "id": "5a75ae65"
   },
   "source": [
    "- From the bar graph, we can see the top non-stopwords are love,u, thank and new."
   ]
  },
  {
   "cell_type": "markdown",
   "id": "d93cf180",
   "metadata": {
    "id": "d93cf180"
   },
   "source": [
    "## Ngram exploration"
   ]
  },
  {
   "cell_type": "code",
   "execution_count": 44,
   "id": "b25783e3",
   "metadata": {
    "id": "b25783e3"
   },
   "outputs": [
    {
     "ename": "ModuleNotFoundError",
     "evalue": "No module named 'nltk'",
     "output_type": "error",
     "traceback": [
      "\u001b[0;31m---------------------------------------------------------------------------\u001b[0m",
      "\u001b[0;31mModuleNotFoundError\u001b[0m                       Traceback (most recent call last)",
      "Cell \u001b[0;32mIn[44], line 1\u001b[0m\n\u001b[0;32m----> 1\u001b[0m \u001b[38;5;28;01mfrom\u001b[39;00m \u001b[38;5;21;01mnltk\u001b[39;00m\u001b[38;5;21;01m.\u001b[39;00m\u001b[38;5;21;01mutil\u001b[39;00m \u001b[38;5;28;01mimport\u001b[39;00m ngrams\n\u001b[1;32m      2\u001b[0m \u001b[38;5;28;01mfrom\u001b[39;00m \u001b[38;5;21;01msklearn\u001b[39;00m\u001b[38;5;21;01m.\u001b[39;00m\u001b[38;5;21;01mfeature_extraction\u001b[39;00m\u001b[38;5;21;01m.\u001b[39;00m\u001b[38;5;21;01mtext\u001b[39;00m \u001b[38;5;28;01mimport\u001b[39;00m CountVectorizer\n",
      "\u001b[0;31mModuleNotFoundError\u001b[0m: No module named 'nltk'"
     ]
    }
   ],
   "source": [
    "from nltk.util import ngrams\n",
    "from sklearn.feature_extraction.text import CountVectorizer"
   ]
  },
  {
   "cell_type": "code",
   "execution_count": 45,
   "id": "4fc3fb78",
   "metadata": {
    "id": "4fc3fb78"
   },
   "outputs": [],
   "source": [
    "def plot_top_ngrams_barchart(text, n=2):\n",
    "    #stop=set(stopwords.words('english'))\n",
    "\n",
    "    new= text.str.split()\n",
    "    new=new.values.tolist()\n",
    "    corpus=[word for i in new for word in i]\n",
    "\n",
    "    def _get_top_ngram(corpus, n=None):\n",
    "        vec = CountVectorizer(ngram_range=(n, n)).fit(corpus)\n",
    "        bag_of_words = vec.transform(corpus)\n",
    "        sum_words = bag_of_words.sum(axis=0) \n",
    "        words_freq = [(word, sum_words[0, idx]) \n",
    "                      for word, idx in vec.vocabulary_.items()]\n",
    "        words_freq =sorted(words_freq, key = lambda x: x[1], reverse=True)\n",
    "        return words_freq[:10]\n",
    "\n",
    "    top_n_bigrams=_get_top_ngram(text,n)[:10]\n",
    "    x,y=map(list,zip(*top_n_bigrams))\n",
    "    sns.barplot(x=y,y=x)"
   ]
  },
  {
   "cell_type": "code",
   "execution_count": 46,
   "id": "f54618dd",
   "metadata": {
    "id": "f54618dd",
    "outputId": "f775c719-1548-4e56-8e76-7af9e3302808"
   },
   "outputs": [
    {
     "ename": "NameError",
     "evalue": "name 'CountVectorizer' is not defined",
     "output_type": "error",
     "traceback": [
      "\u001b[0;31m---------------------------------------------------------------------------\u001b[0m",
      "\u001b[0;31mNameError\u001b[0m                                 Traceback (most recent call last)",
      "Cell \u001b[0;32mIn[46], line 1\u001b[0m\n\u001b[0;32m----> 1\u001b[0m \u001b[43mplot_top_ngrams_barchart\u001b[49m\u001b[43m(\u001b[49m\u001b[43mtext_data\u001b[49m\u001b[43m[\u001b[49m\u001b[38;5;124;43m'\u001b[39;49m\u001b[38;5;124;43mProcessed_Tweets\u001b[39;49m\u001b[38;5;124;43m'\u001b[39;49m\u001b[43m]\u001b[49m\u001b[43m,\u001b[49m\u001b[38;5;241;43m2\u001b[39;49m\u001b[43m)\u001b[49m\n",
      "Cell \u001b[0;32mIn[45], line 17\u001b[0m, in \u001b[0;36mplot_top_ngrams_barchart\u001b[0;34m(text, n)\u001b[0m\n\u001b[1;32m     14\u001b[0m     words_freq \u001b[38;5;241m=\u001b[39m\u001b[38;5;28msorted\u001b[39m(words_freq, key \u001b[38;5;241m=\u001b[39m \u001b[38;5;28;01mlambda\u001b[39;00m x: x[\u001b[38;5;241m1\u001b[39m], reverse\u001b[38;5;241m=\u001b[39m\u001b[38;5;28;01mTrue\u001b[39;00m)\n\u001b[1;32m     15\u001b[0m     \u001b[38;5;28;01mreturn\u001b[39;00m words_freq[:\u001b[38;5;241m10\u001b[39m]\n\u001b[0;32m---> 17\u001b[0m top_n_bigrams\u001b[38;5;241m=\u001b[39m\u001b[43m_get_top_ngram\u001b[49m\u001b[43m(\u001b[49m\u001b[43mtext\u001b[49m\u001b[43m,\u001b[49m\u001b[43mn\u001b[49m\u001b[43m)\u001b[49m[:\u001b[38;5;241m10\u001b[39m]\n\u001b[1;32m     18\u001b[0m x,y\u001b[38;5;241m=\u001b[39m\u001b[38;5;28mmap\u001b[39m(\u001b[38;5;28mlist\u001b[39m,\u001b[38;5;28mzip\u001b[39m(\u001b[38;5;241m*\u001b[39mtop_n_bigrams))\n\u001b[1;32m     19\u001b[0m sns\u001b[38;5;241m.\u001b[39mbarplot(x\u001b[38;5;241m=\u001b[39my,y\u001b[38;5;241m=\u001b[39mx)\n",
      "Cell \u001b[0;32mIn[45], line 9\u001b[0m, in \u001b[0;36mplot_top_ngrams_barchart.<locals>._get_top_ngram\u001b[0;34m(corpus, n)\u001b[0m\n\u001b[1;32m      8\u001b[0m \u001b[38;5;28;01mdef\u001b[39;00m \u001b[38;5;21m_get_top_ngram\u001b[39m(corpus, n\u001b[38;5;241m=\u001b[39m\u001b[38;5;28;01mNone\u001b[39;00m):\n\u001b[0;32m----> 9\u001b[0m     vec \u001b[38;5;241m=\u001b[39m \u001b[43mCountVectorizer\u001b[49m(ngram_range\u001b[38;5;241m=\u001b[39m(n, n))\u001b[38;5;241m.\u001b[39mfit(corpus)\n\u001b[1;32m     10\u001b[0m     bag_of_words \u001b[38;5;241m=\u001b[39m vec\u001b[38;5;241m.\u001b[39mtransform(corpus)\n\u001b[1;32m     11\u001b[0m     sum_words \u001b[38;5;241m=\u001b[39m bag_of_words\u001b[38;5;241m.\u001b[39msum(axis\u001b[38;5;241m=\u001b[39m\u001b[38;5;241m0\u001b[39m) \n",
      "\u001b[0;31mNameError\u001b[0m: name 'CountVectorizer' is not defined"
     ]
    }
   ],
   "source": [
    "plot_top_ngrams_barchart(text_data['Processed_Tweets'],2)"
   ]
  },
  {
   "cell_type": "markdown",
   "id": "1a7e4223",
   "metadata": {
    "id": "1a7e4223"
   },
   "source": [
    "- Bigrams such as president obama,happy birthday,cant wait,last night dominate the processed tweets"
   ]
  },
  {
   "cell_type": "code",
   "execution_count": 47,
   "id": "a248b0dc",
   "metadata": {
    "id": "a248b0dc",
    "outputId": "455cb92c-144f-4af1-93b9-dec5eb5afb18"
   },
   "outputs": [
    {
     "ename": "NameError",
     "evalue": "name 'CountVectorizer' is not defined",
     "output_type": "error",
     "traceback": [
      "\u001b[0;31m---------------------------------------------------------------------------\u001b[0m",
      "\u001b[0;31mNameError\u001b[0m                                 Traceback (most recent call last)",
      "Cell \u001b[0;32mIn[47], line 2\u001b[0m\n\u001b[1;32m      1\u001b[0m \u001b[38;5;66;03m# top trigrams\u001b[39;00m\n\u001b[0;32m----> 2\u001b[0m \u001b[43mplot_top_ngrams_barchart\u001b[49m\u001b[43m(\u001b[49m\u001b[43mtext_data\u001b[49m\u001b[43m[\u001b[49m\u001b[38;5;124;43m'\u001b[39;49m\u001b[38;5;124;43mProcessed_Tweets\u001b[39;49m\u001b[38;5;124;43m'\u001b[39;49m\u001b[43m]\u001b[49m\u001b[43m,\u001b[49m\u001b[38;5;241;43m3\u001b[39;49m\u001b[43m)\u001b[49m\n",
      "Cell \u001b[0;32mIn[45], line 17\u001b[0m, in \u001b[0;36mplot_top_ngrams_barchart\u001b[0;34m(text, n)\u001b[0m\n\u001b[1;32m     14\u001b[0m     words_freq \u001b[38;5;241m=\u001b[39m\u001b[38;5;28msorted\u001b[39m(words_freq, key \u001b[38;5;241m=\u001b[39m \u001b[38;5;28;01mlambda\u001b[39;00m x: x[\u001b[38;5;241m1\u001b[39m], reverse\u001b[38;5;241m=\u001b[39m\u001b[38;5;28;01mTrue\u001b[39;00m)\n\u001b[1;32m     15\u001b[0m     \u001b[38;5;28;01mreturn\u001b[39;00m words_freq[:\u001b[38;5;241m10\u001b[39m]\n\u001b[0;32m---> 17\u001b[0m top_n_bigrams\u001b[38;5;241m=\u001b[39m\u001b[43m_get_top_ngram\u001b[49m\u001b[43m(\u001b[49m\u001b[43mtext\u001b[49m\u001b[43m,\u001b[49m\u001b[43mn\u001b[49m\u001b[43m)\u001b[49m[:\u001b[38;5;241m10\u001b[39m]\n\u001b[1;32m     18\u001b[0m x,y\u001b[38;5;241m=\u001b[39m\u001b[38;5;28mmap\u001b[39m(\u001b[38;5;28mlist\u001b[39m,\u001b[38;5;28mzip\u001b[39m(\u001b[38;5;241m*\u001b[39mtop_n_bigrams))\n\u001b[1;32m     19\u001b[0m sns\u001b[38;5;241m.\u001b[39mbarplot(x\u001b[38;5;241m=\u001b[39my,y\u001b[38;5;241m=\u001b[39mx)\n",
      "Cell \u001b[0;32mIn[45], line 9\u001b[0m, in \u001b[0;36mplot_top_ngrams_barchart.<locals>._get_top_ngram\u001b[0;34m(corpus, n)\u001b[0m\n\u001b[1;32m      8\u001b[0m \u001b[38;5;28;01mdef\u001b[39;00m \u001b[38;5;21m_get_top_ngram\u001b[39m(corpus, n\u001b[38;5;241m=\u001b[39m\u001b[38;5;28;01mNone\u001b[39;00m):\n\u001b[0;32m----> 9\u001b[0m     vec \u001b[38;5;241m=\u001b[39m \u001b[43mCountVectorizer\u001b[49m(ngram_range\u001b[38;5;241m=\u001b[39m(n, n))\u001b[38;5;241m.\u001b[39mfit(corpus)\n\u001b[1;32m     10\u001b[0m     bag_of_words \u001b[38;5;241m=\u001b[39m vec\u001b[38;5;241m.\u001b[39mtransform(corpus)\n\u001b[1;32m     11\u001b[0m     sum_words \u001b[38;5;241m=\u001b[39m bag_of_words\u001b[38;5;241m.\u001b[39msum(axis\u001b[38;5;241m=\u001b[39m\u001b[38;5;241m0\u001b[39m) \n",
      "\u001b[0;31mNameError\u001b[0m: name 'CountVectorizer' is not defined"
     ]
    }
   ],
   "source": [
    "# top trigrams\n",
    "plot_top_ngrams_barchart(text_data['Processed_Tweets'],3)"
   ]
  },
  {
   "cell_type": "markdown",
   "id": "96982eed",
   "metadata": {
    "id": "96982eed"
   },
   "source": [
    "From the plot, weekend hashtag project, cant wait see, hashtag game tweet etc., dominate the trigrams of processed tweets"
   ]
  },
  {
   "cell_type": "markdown",
   "id": "e6fab7fb",
   "metadata": {
    "id": "e6fab7fb"
   },
   "source": [
    "## Word Cloud"
   ]
  },
  {
   "cell_type": "code",
   "execution_count": 48,
   "id": "37582b0a",
   "metadata": {
    "id": "37582b0a",
    "outputId": "c50960f9-8ad6-4a49-d76a-2b5fc89ee0c2"
   },
   "outputs": [
    {
     "ename": "NameError",
     "evalue": "name 'plt' is not defined",
     "output_type": "error",
     "traceback": [
      "\u001b[0;31m---------------------------------------------------------------------------\u001b[0m",
      "\u001b[0;31mNameError\u001b[0m                                 Traceback (most recent call last)",
      "Cell \u001b[0;32mIn[48], line 1\u001b[0m\n\u001b[0;32m----> 1\u001b[0m \u001b[43mplt\u001b[49m\u001b[38;5;241m.\u001b[39mfigure(figsize\u001b[38;5;241m=\u001b[39m(\u001b[38;5;241m10\u001b[39m,\u001b[38;5;241m8\u001b[39m))\n\u001b[1;32m      2\u001b[0m wordcloud \u001b[38;5;241m=\u001b[39m WordCloud(max_words\u001b[38;5;241m=\u001b[39m\u001b[38;5;241m300\u001b[39m, width\u001b[38;5;241m=\u001b[39m\u001b[38;5;241m1200\u001b[39m, height\u001b[38;5;241m=\u001b[39m\u001b[38;5;241m800\u001b[39m, background_color\u001b[38;5;241m=\u001b[39m\u001b[38;5;124m'\u001b[39m\u001b[38;5;124mwhite\u001b[39m\u001b[38;5;124m'\u001b[39m,\n\u001b[1;32m      3\u001b[0m                         collocations\u001b[38;5;241m=\u001b[39m\u001b[38;5;28;01mFalse\u001b[39;00m)\u001b[38;5;241m.\u001b[39mgenerate(\u001b[38;5;124m\"\u001b[39m\u001b[38;5;124m \u001b[39m\u001b[38;5;124m\"\u001b[39m\u001b[38;5;241m.\u001b[39mjoin(text_data[\u001b[38;5;124m'\u001b[39m\u001b[38;5;124mProcessed_Tweets\u001b[39m\u001b[38;5;124m'\u001b[39m]))\n\u001b[1;32m      4\u001b[0m plt\u001b[38;5;241m.\u001b[39mgrid(\u001b[38;5;28;01mNone\u001b[39;00m)\n",
      "\u001b[0;31mNameError\u001b[0m: name 'plt' is not defined"
     ]
    }
   ],
   "source": [
    "plt.figure(figsize=(10,8))\n",
    "wordcloud = WordCloud(max_words=300, width=1200, height=800, background_color='white',\n",
    "                        collocations=False).generate(\" \".join(text_data['Processed_Tweets']))\n",
    "plt.grid(None)\n",
    "plt.title(\"WordCloud of Top Tweets by US Celebrities\")\n",
    "plt.axis('off')\n",
    "plt.imshow(wordcloud)\n",
    "plt.savefig('word_cloud.png')"
   ]
  },
  {
   "cell_type": "code",
   "execution_count": null,
   "id": "56b703cd",
   "metadata": {
    "id": "56b703cd"
   },
   "outputs": [],
   "source": [
    "# save data into csv format\n",
    "text_data.to_csv('usceleb_tweets.csv',index=False)"
   ]
  },
  {
   "cell_type": "code",
   "execution_count": null,
   "id": "96b09393",
   "metadata": {
    "id": "96b09393"
   },
   "outputs": [],
   "source": [
    "data=pd.read_csv('usceleb_tweets.csv')"
   ]
  },
  {
   "cell_type": "code",
   "execution_count": null,
   "id": "8e0dfbe4",
   "metadata": {
    "id": "8e0dfbe4",
    "outputId": "91fcbc63-4cc5-40d4-d8fa-35c460c47ed0"
   },
   "outputs": [],
   "source": [
    "data.head()"
   ]
  },
  {
   "cell_type": "code",
   "execution_count": null,
   "id": "069832de",
   "metadata": {
    "id": "069832de",
    "outputId": "935df7d7-10cb-4e17-b1ef-32a883fb21db"
   },
   "outputs": [],
   "source": [
    "#top 10 tweet locations\n",
    "top_tweet_shares=data.number_of_shares.value_counts().sort_values(ascending=False).head(10)\n",
    "top_tweet_shares"
   ]
  },
  {
   "cell_type": "code",
   "execution_count": null,
   "id": "bbca91c3",
   "metadata": {
    "id": "bbca91c3",
    "outputId": "3c619901-ae61-448b-dcc7-f829970ade63"
   },
   "outputs": [],
   "source": [
    "top_username=data.author.value_counts().head(20)\n",
    "top_username"
   ]
  },
  {
   "cell_type": "code",
   "execution_count": null,
   "id": "8c7c28bc",
   "metadata": {
    "id": "8c7c28bc",
    "outputId": "5ed53bf3-086b-4550-d0e7-ced18c3d1de8"
   },
   "outputs": [],
   "source": [
    "#visualizing the top tweeters from kenya\n",
    "import seaborn as sns\n",
    "plt.figure(figsize=(12,6))\n",
    "plt.title(\"Top 20 authors of the tweets\",fontsize=18,color='Red')\n",
    "sns.barplot(y=top_username.index,x=top_username,palette='Set2',orient='h')\n",
    "plt.savefig('top_20_us.png')"
   ]
  },
  {
   "cell_type": "markdown",
   "id": "50f6e122",
   "metadata": {
    "id": "50f6e122"
   },
   "source": [
    "## TOPIC MODELLING USING LATENT DIRCHLET ALLOCATION (LDA)"
   ]
  },
  {
   "cell_type": "code",
   "execution_count": null,
   "id": "1a685738",
   "metadata": {
    "id": "1a685738",
    "outputId": "54c4eaea-5f7f-4068-ca9d-39a53d00b557"
   },
   "outputs": [],
   "source": [
    "import gensim\n",
    "from gensim.utils import simple_preprocess\n",
    "stop_words = stopwords.words('english')\n",
    "stop_words.extend(['from', 'subject', 're', 'de', 'use','e','nm','tx','nz','u','im','i','I','th','gma'])\n",
    "def sent_to_words(sentences):\n",
    "    for sentence in sentences:\n",
    "        # deacc=True removes punctuations\n",
    "        yield(gensim.utils.simple_preprocess(str(sentence), deacc=True))\n",
    "def remove_stopwords(texts):\n",
    "    return [[word for word in simple_preprocess(str(doc)) \n",
    "             if word not in stop_words] for doc in texts]\n",
    "data_n = data.Processed_Tweets.values.tolist()\n",
    "data_words = list(sent_to_words(data_n))\n",
    "# remove stop words\n",
    "data_words = remove_stopwords(data_words)\n",
    "print(data_words[:1][0][:30])"
   ]
  },
  {
   "cell_type": "code",
   "execution_count": null,
   "id": "b1da51df",
   "metadata": {
    "id": "b1da51df",
    "outputId": "02a0c7d5-9fa7-412f-f779-5e9454b60a10"
   },
   "outputs": [],
   "source": [
    "data_words[1]"
   ]
  },
  {
   "cell_type": "code",
   "execution_count": null,
   "id": "59dbc79f",
   "metadata": {
    "id": "59dbc79f",
    "outputId": "b2a540a2-b9ac-496d-d13f-b575f848f22f"
   },
   "outputs": [],
   "source": [
    "import gensim.corpora as corpora\n",
    "# Create Dictionary\n",
    "id2word = corpora.Dictionary(data_words)\n",
    "# Create Corpus\n",
    "texts = data_words\n",
    "# Term Document Frequency\n",
    "corpus = [id2word.doc2bow(text) for text in texts]\n",
    "# View\n",
    "print(corpus[:1][0][:30])"
   ]
  },
  {
   "cell_type": "code",
   "execution_count": null,
   "id": "deaf939f",
   "metadata": {
    "id": "deaf939f",
    "outputId": "5e886ed6-cf77-4cd6-e035-7306ab329781"
   },
   "outputs": [],
   "source": [
    "from pprint import pprint\n",
    "# number of topics\n",
    "num_topics = 10\n",
    "# Build LDA model\n",
    "lda_model = gensim.models.ldamodel.LdaModel(corpus=corpus,\n",
    "                                            id2word=id2word,\n",
    "                                            num_topics=num_topics,\n",
    "                                            random_state=100,\n",
    "                                            update_every=1,\n",
    "                                            chunksize=100,\n",
    "                                            passes=10,\n",
    "                                            alpha=\"auto\")\n",
    "                                            \n",
    "                                        \n",
    "# Print the Keyword in the 10 topics\n",
    "pprint(lda_model.print_topics())\n",
    "doc_lda = lda_model[corpus]\n",
    "\n"
   ]
  },
  {
   "cell_type": "code",
   "execution_count": null,
   "id": "b992fbf7",
   "metadata": {
    "id": "b992fbf7"
   },
   "outputs": [],
   "source": [
    "import pyLDAvis.gensim_models"
   ]
  },
  {
   "cell_type": "code",
   "execution_count": null,
   "id": "9d734771",
   "metadata": {
    "id": "9d734771",
    "outputId": "e8e38668-f79a-47e6-b92c-1efcf2c1c2fc"
   },
   "outputs": [],
   "source": [
    "pyLDAvis.enable_notebook()\n",
    "vis=pyLDAvis.gensim_models.prepare(lda_model,corpus,id2word,\n",
    "                              mds=\"mds\",R=30)\n",
    "vis"
   ]
  },
  {
   "cell_type": "markdown",
   "id": "a573013d",
   "metadata": {
    "id": "a573013d"
   },
   "source": [
    "## SENTIMENT ANALYSIS"
   ]
  },
  {
   "cell_type": "code",
   "execution_count": null,
   "id": "f7f7b1fb",
   "metadata": {
    "id": "f7f7b1fb"
   },
   "outputs": [],
   "source": [
    "#!pip install better_profanity\n",
    "#!pip install textblob"
   ]
  },
  {
   "cell_type": "code",
   "execution_count": null,
   "id": "536d1cfb",
   "metadata": {
    "id": "536d1cfb",
    "outputId": "bc347a8c-b78f-407d-b854-a5b6268f1cec"
   },
   "outputs": [],
   "source": [
    "from nltk.sentiment.vader import SentimentIntensityAnalyzer\n",
    "nltk.download('vader_lexicon')\n",
    "sentiments = SentimentIntensityAnalyzer()\n"
   ]
  },
  {
   "cell_type": "code",
   "execution_count": null,
   "id": "42210fa2",
   "metadata": {
    "id": "42210fa2"
   },
   "outputs": [],
   "source": [
    "list1 = []\n",
    "for i in data['Processed_Tweets']:\n",
    "    list1.append((sentiments.polarity_scores(str(i)))['compound'])"
   ]
  },
  {
   "cell_type": "code",
   "execution_count": null,
   "id": "c7826b86",
   "metadata": {
    "id": "c7826b86"
   },
   "outputs": [],
   "source": [
    "data['sentiment'] = pd.Series(list1)\n",
    "\n",
    "def sentiment_category(sentiment):\n",
    "    label = ''\n",
    "    if(sentiment>0):\n",
    "        label = 'positive'\n",
    "    elif(sentiment == 0):\n",
    "        label = 'neutral'\n",
    "    else:\n",
    "        label = 'negative'\n",
    "    return(label)\n",
    "\n",
    "data['sentiment_category'] = data['sentiment'].apply(sentiment_category)"
   ]
  },
  {
   "cell_type": "code",
   "execution_count": null,
   "id": "3e924bad",
   "metadata": {
    "id": "3e924bad",
    "outputId": "72eac297-e271-4943-b28a-f88707dfc6fa"
   },
   "outputs": [],
   "source": [
    "data.head()"
   ]
  },
  {
   "cell_type": "code",
   "execution_count": null,
   "id": "7a16f85c",
   "metadata": {
    "id": "7a16f85c",
    "outputId": "8f050597-03da-4dd6-f721-b25b2c77a5aa"
   },
   "outputs": [],
   "source": [
    "data['sentiment_category'].value_counts()"
   ]
  },
  {
   "cell_type": "code",
   "execution_count": null,
   "id": "da3efa19",
   "metadata": {
    "id": "da3efa19",
    "outputId": "b9d86cdc-e823-44ac-9376-90c0a3586ddb"
   },
   "outputs": [],
   "source": [
    "# visualizing the sentiments\n",
    "data['sentiment_category'].value_counts().plot(kind='barh')\n",
    "plt.savefig('sentiment.png')"
   ]
  },
  {
   "cell_type": "code",
   "execution_count": null,
   "id": "bf0c2caa",
   "metadata": {
    "id": "bf0c2caa",
    "outputId": "7efe4eac-fd65-49be-b476-213db83c84bc"
   },
   "outputs": [],
   "source": [
    "#inspecting positively classified sentiments\n",
    "data[data['sentiment_category']=='positive']['content'].head()"
   ]
  },
  {
   "cell_type": "code",
   "execution_count": null,
   "id": "15487fac",
   "metadata": {
    "id": "15487fac",
    "outputId": "0ba39c75-11b0-4a1a-beb2-529c295007c5"
   },
   "outputs": [],
   "source": [
    "# inspecting negatively classified sentiments\n",
    "data[data['sentiment_category']=='negative']['content'].head()"
   ]
  },
  {
   "cell_type": "code",
   "execution_count": null,
   "id": "de6709bf",
   "metadata": {
    "id": "de6709bf",
    "outputId": "3e5079fd-7a9b-4e6c-b11e-9ee105fb91b3"
   },
   "outputs": [],
   "source": [
    "#inspecting neutrally classified sentiments\n",
    "data[data['sentiment_category']=='neutral']['content'].head()"
   ]
  },
  {
   "cell_type": "markdown",
   "id": "d02480cf",
   "metadata": {
    "id": "d02480cf"
   },
   "source": [
    "## Named Entity Recognition (NER)"
   ]
  },
  {
   "cell_type": "code",
   "execution_count": null,
   "id": "681632cc",
   "metadata": {
    "id": "681632cc"
   },
   "outputs": [],
   "source": [
    "import spacy\n",
    "from spacy import displacy\n",
    "from collections import Counter\n",
    "import en_core_web_sm\n",
    "#nlp = en_core_web_sm.load()\n",
    "nlp=spacy.load(\"en_core_web_sm\")\n",
    "nlp.max_length = 1700000\n",
    "#get the pipeline component\n",
    "ner=nlp.get_pipe(\"ner\")"
   ]
  },
  {
   "cell_type": "code",
   "execution_count": null,
   "id": "4acab636",
   "metadata": {
    "id": "4acab636",
    "outputId": "f0233d55-ca45-4a60-d716-4fe9fd912f0f"
   },
   "outputs": [],
   "source": [
    "panda['Processed_Tweets'].iloc[1000]"
   ]
  },
  {
   "cell_type": "code",
   "execution_count": null,
   "id": "6f82f09c",
   "metadata": {
    "id": "6f82f09c"
   },
   "outputs": [],
   "source": [
    "#sample tag text\n",
    "txt=panda['Processed_Tweets'].iloc[1000]\n",
    "doc=nlp(txt)"
   ]
  },
  {
   "cell_type": "code",
   "execution_count": null,
   "id": "d5ee9122",
   "metadata": {
    "id": "d5ee9122",
    "outputId": "ac26a433-4e1e-4f2b-961a-622c6764ad99"
   },
   "outputs": [],
   "source": [
    "def spacy_large_ner(document):\n",
    "    \n",
    "    return {(ent.text.strip(), ent.label_) for ent in nlp(document).ents}\n",
    "spacy_large_ner(txt)"
   ]
  },
  {
   "cell_type": "code",
   "execution_count": null,
   "id": "26ba1c4e",
   "metadata": {
    "id": "26ba1c4e",
    "outputId": "f09947a1-a1fa-4f05-e0ac-843ab8c3eb92"
   },
   "outputs": [],
   "source": [
    "## display result\n",
    "spacy.displacy.render(doc,style='ent')"
   ]
  },
  {
   "cell_type": "code",
   "execution_count": null,
   "id": "238bef9b",
   "metadata": {
    "id": "238bef9b"
   },
   "outputs": [],
   "source": [
    "#named_entity_bar_chart\n",
    "def plot_named_entity_barchart(text):\n",
    "    #nlp = spacy.load(\"en_core_web_sm\")\n",
    "    \n",
    "    def _get_ner(text):\n",
    "        doc=nlp(text)\n",
    "        #return {(ent.text.strip(), ent.label_) for ent in nlp(text).ents}\n",
    "        return [X.label_ for X in doc.ents]\n",
    "    \n",
    "    ent=text.apply(lambda x : _get_ner(x))\n",
    "    ent=[x for sub in ent for x in sub]\n",
    "    counter=Counter(ent)\n",
    "    count=counter.most_common()\n",
    "    \n",
    "    x,y=map(list,zip(*count))\n",
    "    sns.barplot(x=y,y=x)"
   ]
  },
  {
   "cell_type": "code",
   "execution_count": null,
   "id": "72dbc83b",
   "metadata": {
    "id": "72dbc83b",
    "outputId": "4bb7db08-32b7-4a61-96ee-263672e0e40d"
   },
   "outputs": [],
   "source": [
    "plot_named_entity_barchart(data['Processed_Tweets'])"
   ]
  },
  {
   "cell_type": "markdown",
   "id": "8be34bb8",
   "metadata": {
    "id": "8be34bb8"
   },
   "source": [
    "PERSON,GPE and ORG dominate the entity bar chart"
   ]
  },
  {
   "cell_type": "code",
   "execution_count": null,
   "id": "6f0babff",
   "metadata": {
    "id": "6f0babff"
   },
   "outputs": [],
   "source": [
    "def plot_most_common_named_entity_barchart(text, entity=\"\"):\n",
    "    #nlp = spacy.load(\"en_core_web_sm\")\n",
    "    \n",
    "    def _get_ner(text,ent):\n",
    "        doc=nlp(text)\n",
    "        return [X.text for X in doc.ents if X.label_ == ent]\n",
    "\n",
    "    entity_filtered=text.apply(lambda x: _get_ner(x,entity))\n",
    "    entity_filtered=[i for x in entity_filtered for i in x]\n",
    "    \n",
    "    counter=Counter(entity_filtered)\n",
    "    x,y=map(list,zip(*counter.most_common(10)))\n",
    "    sns.barplot(y,x).set_title(entity)"
   ]
  },
  {
   "cell_type": "code",
   "execution_count": null,
   "id": "c8215352",
   "metadata": {
    "id": "c8215352",
    "outputId": "ea7d785d-ccc2-4f4b-9b89-1d781f3fa717"
   },
   "outputs": [],
   "source": [
    "plot_most_common_named_entity_barchart(data['Processed_Tweets'],entity='GPE')"
   ]
  },
  {
   "cell_type": "code",
   "execution_count": null,
   "id": "b367cf47",
   "metadata": {
    "id": "b367cf47"
   },
   "outputs": [],
   "source": [
    "# creating tokens that will serve as entities for Spacy\n",
    "tokens = nlp(''.join(str(panda['Processed_Tweets'].tolist())))"
   ]
  },
  {
   "cell_type": "code",
   "execution_count": null,
   "id": "a6753e53",
   "metadata": {
    "id": "a6753e53",
    "outputId": "e63d39a7-9aa7-4cf1-9de7-57934c78db1f"
   },
   "outputs": [],
   "source": [
    "# extracting the entities\n",
    "items = [x.text for x in tokens.ents]\n",
    "Counter(items).most_common(20)"
   ]
  },
  {
   "cell_type": "code",
   "execution_count": null,
   "id": "9d696e03",
   "metadata": {
    "id": "9d696e03"
   },
   "outputs": [],
   "source": [
    "#extracting the location (GPE)\n",
    "location_list=[]\n",
    "for ent in tokens.ents:\n",
    "    if ent.label_ == 'GPE':\n",
    "        location_list.append(ent.text)\n",
    "location_counts = Counter(location_list).most_common()\n",
    "df_location = pd.DataFrame(location_counts, columns =['country','count'])"
   ]
  },
  {
   "cell_type": "code",
   "execution_count": null,
   "id": "b0ae77e3",
   "metadata": {
    "id": "b0ae77e3",
    "outputId": "ccfe870c-69e5-46d9-b3ca-43dbfad970e9"
   },
   "outputs": [],
   "source": [
    "df_location.head(10)"
   ]
  },
  {
   "cell_type": "code",
   "execution_count": null,
   "id": "576bc3e3",
   "metadata": {
    "id": "576bc3e3"
   },
   "outputs": [],
   "source": [
    "#df_location.plot.barh(x='country', y='count', title=\"NER for different locations\", figsize=(10,8)).invert_yaxis()"
   ]
  },
  {
   "cell_type": "code",
   "execution_count": null,
   "id": "38cfca68",
   "metadata": {
    "id": "38cfca68"
   },
   "outputs": [],
   "source": [
    "# Extracting longitudes and Latitudes \n",
    "#df_location.to_csv('location.csv',index=False)"
   ]
  },
  {
   "cell_type": "code",
   "execution_count": null,
   "id": "ab4d6708",
   "metadata": {
    "id": "ab4d6708"
   },
   "outputs": [],
   "source": [
    "df1=pd.read_csv('location.csv')"
   ]
  },
  {
   "cell_type": "code",
   "execution_count": null,
   "id": "4bd86d6b",
   "metadata": {
    "id": "4bd86d6b",
    "outputId": "41fc1dfa-e07c-4037-8995-671fbedd01b2"
   },
   "outputs": [],
   "source": [
    "df1.head()"
   ]
  },
  {
   "cell_type": "code",
   "execution_count": null,
   "id": "9b48a55b",
   "metadata": {
    "id": "9b48a55b"
   },
   "outputs": [],
   "source": [
    "#!pip install geopy\n",
    "#!pip install geopandas"
   ]
  },
  {
   "cell_type": "code",
   "execution_count": null,
   "id": "9ea21b83",
   "metadata": {
    "id": "9ea21b83"
   },
   "outputs": [],
   "source": [
    "from geopandas.tools import geocode"
   ]
  },
  {
   "cell_type": "code",
   "execution_count": null,
   "id": "ec96bcd0",
   "metadata": {
    "id": "ec96bcd0",
    "outputId": "1bedfd4c-3bfa-46b7-e1cb-ce811e04dc50"
   },
   "outputs": [],
   "source": [
    "for index,row in df1.iterrows():\n",
    "    try:\n",
    "        print(row['country'])\n",
    "        information=geocode(row['country'],provider='nominatim',user_agent='xyz',timeout=5)\n",
    "        df1.loc[index,'longitude']=information.geometry.loc[0].x\n",
    "        df1.loc[index,'latitude']=information.geometry.loc[0].y\n",
    "    except TypeError:\n",
    "        print('Coordinates of' +row['country']+'are not available')\n",
    "        "
   ]
  },
  {
   "cell_type": "code",
   "execution_count": null,
   "id": "d050db6c",
   "metadata": {
    "id": "d050db6c",
    "outputId": "c5381f40-c7e1-41f5-8f41-c60a959bff4f"
   },
   "outputs": [],
   "source": [
    "df1.head()"
   ]
  },
  {
   "cell_type": "code",
   "execution_count": null,
   "id": "eb7a8007",
   "metadata": {
    "id": "eb7a8007"
   },
   "outputs": [],
   "source": [
    "#save the df1 to a new csv format\n",
    "df1.to_csv('location_geo.csv',index=False)"
   ]
  },
  {
   "cell_type": "code",
   "execution_count": null,
   "id": "83d3b7f5",
   "metadata": {
    "id": "83d3b7f5"
   },
   "outputs": [],
   "source": [
    "#df2=pd.read_csv('location_geo.csv')"
   ]
  },
  {
   "cell_type": "markdown",
   "id": "d418d02a",
   "metadata": {
    "id": "d418d02a"
   },
   "source": [
    "## A world map showing location of fall armyworms from different tweets"
   ]
  },
  {
   "cell_type": "code",
   "execution_count": null,
   "id": "a140eb92",
   "metadata": {
    "id": "a140eb92",
    "outputId": "1ed99468-16fb-4d28-c51f-68dea976873a"
   },
   "outputs": [],
   "source": [
    "\n",
    "from shapely.geometry import Point\n",
    "import geopandas as gpd\n",
    "from geopandas import GeoDataFrame\n",
    "\n",
    "df2 = pd.read_csv(\"location_geo.csv\", delimiter=',', skiprows=0, low_memory=False)\n",
    "\n",
    "geometry = [Point(xy) for xy in zip(df2['longitude'], df2['latitude'])]\n",
    "gdf = GeoDataFrame(df2, geometry=geometry)   \n",
    "\n",
    "#a world map with geopandas\n",
    "world = gpd.read_file(gpd.datasets.get_path('naturalearth_lowres'))\n",
    "gdf.plot(ax=world.plot(figsize=(15, 8)), marker='o', color='red', markersize=15);\n",
    "plt.savefig('fallarmyworm_geomap.png')"
   ]
  },
  {
   "cell_type": "code",
   "execution_count": null,
   "id": "2e8cba5f",
   "metadata": {
    "id": "2e8cba5f"
   },
   "outputs": [],
   "source": []
  }
 ],
 "metadata": {
  "colab": {
   "provenance": []
  },
  "kernelspec": {
   "display_name": "Python 3 (ipykernel)",
   "language": "python",
   "name": "python3"
  },
  "language_info": {
   "codemirror_mode": {
    "name": "ipython",
    "version": 3
   },
   "file_extension": ".py",
   "mimetype": "text/x-python",
   "name": "python",
   "nbconvert_exporter": "python",
   "pygments_lexer": "ipython3",
   "version": "3.11.8"
  }
 },
 "nbformat": 4,
 "nbformat_minor": 5
}
